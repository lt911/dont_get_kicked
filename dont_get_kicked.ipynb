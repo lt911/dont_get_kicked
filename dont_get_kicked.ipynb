{
 "cells": [
  {
   "cell_type": "code",
   "execution_count": 1,
   "metadata": {
    "collapsed": false
   },
   "outputs": [],
   "source": [
    "import numpy as np\n",
    "import pandas as pd\n",
    "from IPython.display import display, HTML \n",
    "import matplotlib.pyplot as plt\n",
    "%matplotlib inline\n",
    "import seaborn as sb\n",
    "from collections import *\n",
    "import sklearn.metrics as skm\n",
    "\n",
    "import helper_funcs as helper\n",
    "reload(helper)\n",
    "\n",
    "import warnings\n",
    "warnings.filterwarnings('ignore')\n",
    "pd.options.display.max_rows = 50"
   ]
  },
  {
   "cell_type": "markdown",
   "metadata": {},
   "source": [
    "## Data Exploration"
   ]
  },
  {
   "cell_type": "code",
   "execution_count": 2,
   "metadata": {
    "collapsed": true
   },
   "outputs": [],
   "source": [
    "train_df = pd.read_csv('data/training.csv')\n",
    "test_df = pd.read_csv('data/test.csv')"
   ]
  },
  {
   "cell_type": "code",
   "execution_count": 3,
   "metadata": {
    "collapsed": false
   },
   "outputs": [
    {
     "data": {
      "text/html": [
       "<div>\n",
       "<table border=\"1\" class=\"dataframe\">\n",
       "  <thead>\n",
       "    <tr style=\"text-align: right;\">\n",
       "      <th></th>\n",
       "      <th>row</th>\n",
       "      <th>cols</th>\n",
       "    </tr>\n",
       "  </thead>\n",
       "  <tbody>\n",
       "    <tr>\n",
       "      <th>train_df</th>\n",
       "      <td>72983</td>\n",
       "      <td>34</td>\n",
       "    </tr>\n",
       "    <tr>\n",
       "      <th>test_df</th>\n",
       "      <td>48707</td>\n",
       "      <td>33</td>\n",
       "    </tr>\n",
       "  </tbody>\n",
       "</table>\n",
       "</div>"
      ],
      "text/plain": [
       "            row  cols\n",
       "train_df  72983    34\n",
       "test_df   48707    33"
      ]
     },
     "metadata": {},
     "output_type": "display_data"
    }
   ],
   "source": [
    "shape = pd.DataFrame.from_items([('train_df',train_df.shape),\n",
    "                                 ('test_df',test_df.shape)], orient='index',columns=['row','cols'])\n",
    "\n",
    "display(shape)"
   ]
  },
  {
   "cell_type": "code",
   "execution_count": 4,
   "metadata": {
    "collapsed": false
   },
   "outputs": [
    {
     "data": {
      "text/plain": [
       "0    64007\n",
       "1     8976\n",
       "Name: IsBadBuy, dtype: int64"
      ]
     },
     "execution_count": 4,
     "metadata": {},
     "output_type": "execute_result"
    }
   ],
   "source": [
    "train_df['IsBadBuy'].value_counts() ### unbalanced data"
   ]
  },
  {
   "cell_type": "markdown",
   "metadata": {
    "collapsed": false
   },
   "source": [
    "##### First insight\n",
    "This dataset is an imbalanced-class data. We may not be able to apply the conventional machinle learning algorithms directly to the data. And metrics such as accurary will not be a good choice for this problem. \n",
    "\n",
    "Now do an intial tailoring for the dataset. "
   ]
  },
  {
   "cell_type": "code",
   "execution_count": 5,
   "metadata": {
    "collapsed": false
   },
   "outputs": [
    {
     "data": {
      "text/plain": [
       "(3276, 34)"
      ]
     },
     "execution_count": 5,
     "metadata": {},
     "output_type": "execute_result"
    }
   ],
   "source": [
    "train_df.dropna(axis = 0, how = 'any').shape ## have deleted too many entries"
   ]
  },
  {
   "cell_type": "code",
   "execution_count": 6,
   "metadata": {
    "collapsed": false
   },
   "outputs": [],
   "source": [
    "numerics = ['int16', 'int32', 'int64', 'float16', 'float32', 'float64']\n",
    "\n",
    "num_df = train_df.select_dtypes(numerics)\n",
    "cat_df = train_df.select_dtypes(exclude=numerics)\n",
    "\n",
    "total_cols = len(train_df[3:].columns)\n",
    "\n",
    "## initial clean up for dataframe, drop entries wiht more than 70% of features are NaN's\n",
    "train_df.dropna(axis=0, thresh=np.floor(0.7*total_cols), inplace=True)\n",
    "test_df.dropna(axis=0, thresh=np.floor(0.7*total_cols), inplace=True)"
   ]
  },
  {
   "cell_type": "code",
   "execution_count": 7,
   "metadata": {
    "collapsed": false
   },
   "outputs": [
    {
     "data": {
      "text/html": [
       "<div>\n",
       "<table border=\"1\" class=\"dataframe\">\n",
       "  <thead>\n",
       "    <tr style=\"text-align: right;\">\n",
       "      <th></th>\n",
       "      <th>row</th>\n",
       "      <th>cols</th>\n",
       "    </tr>\n",
       "  </thead>\n",
       "  <tbody>\n",
       "    <tr>\n",
       "      <th>train_df</th>\n",
       "      <td>72983</td>\n",
       "      <td>34</td>\n",
       "    </tr>\n",
       "    <tr>\n",
       "      <th>test_df</th>\n",
       "      <td>48707</td>\n",
       "      <td>33</td>\n",
       "    </tr>\n",
       "  </tbody>\n",
       "</table>\n",
       "</div>"
      ],
      "text/plain": [
       "            row  cols\n",
       "train_df  72983    34\n",
       "test_df   48707    33"
      ]
     },
     "metadata": {},
     "output_type": "display_data"
    }
   ],
   "source": [
    "shape = pd.DataFrame.from_items([('train_df',train_df.shape),\n",
    "                                 ('test_df',test_df.shape)], orient='index',columns=['row','cols'])\n",
    "\n",
    "display(shape)"
   ]
  },
  {
   "cell_type": "code",
   "execution_count": 8,
   "metadata": {
    "collapsed": false
   },
   "outputs": [
    {
     "data": {
      "text/plain": [
       "0    64007\n",
       "1     8976\n",
       "Name: IsBadBuy, dtype: int64"
      ]
     },
     "execution_count": 8,
     "metadata": {},
     "output_type": "execute_result"
    }
   ],
   "source": [
    "train_df['IsBadBuy'].value_counts() ### unbalanced data"
   ]
  },
  {
   "cell_type": "markdown",
   "metadata": {},
   "source": [
    "First I tried to drop data instantce wherever there is an NA value. However, but doing so, the dataset is reduced by about 96% of the data, which is undesired. For the second attempt, I tried to drop only instances with more that 70% of NA column valules, which turned out that no instance was drop. Now let's get a summary of the descriptive statics about the data. \n",
    "\n",
    "### Descriptive Statistics"
   ]
  },
  {
   "cell_type": "code",
   "execution_count": 9,
   "metadata": {
    "collapsed": false
   },
   "outputs": [],
   "source": [
    "train_description = helper.getStat(train_df)"
   ]
  },
  {
   "cell_type": "code",
   "execution_count": 10,
   "metadata": {
    "collapsed": false
   },
   "outputs": [
    {
     "data": {
      "text/html": [
       "<div>\n",
       "<table border=\"1\" class=\"dataframe\">\n",
       "  <thead>\n",
       "    <tr style=\"text-align: right;\">\n",
       "      <th></th>\n",
       "      <th>25%</th>\n",
       "      <th>50%</th>\n",
       "      <th>75%</th>\n",
       "      <th>distinct</th>\n",
       "      <th>max</th>\n",
       "      <th>mean</th>\n",
       "      <th>min</th>\n",
       "      <th>missing</th>\n",
       "      <th>std</th>\n",
       "    </tr>\n",
       "  </thead>\n",
       "  <tbody>\n",
       "    <tr>\n",
       "      <th>RefId</th>\n",
       "      <td>18257.5</td>\n",
       "      <td>36514.0</td>\n",
       "      <td>54764.5</td>\n",
       "      <td>72983.0</td>\n",
       "      <td>73014.0</td>\n",
       "      <td>36511.428497</td>\n",
       "      <td>1.0</td>\n",
       "      <td>0.0</td>\n",
       "      <td>21077.241302</td>\n",
       "    </tr>\n",
       "    <tr>\n",
       "      <th>IsBadBuy</th>\n",
       "      <td>0.0</td>\n",
       "      <td>0.0</td>\n",
       "      <td>0.0</td>\n",
       "      <td>2.0</td>\n",
       "      <td>1.0</td>\n",
       "      <td>0.122988</td>\n",
       "      <td>0.0</td>\n",
       "      <td>0.0</td>\n",
       "      <td>0.328425</td>\n",
       "    </tr>\n",
       "    <tr>\n",
       "      <th>VehYear</th>\n",
       "      <td>2004.0</td>\n",
       "      <td>2005.0</td>\n",
       "      <td>2007.0</td>\n",
       "      <td>10.0</td>\n",
       "      <td>2010.0</td>\n",
       "      <td>2005.343052</td>\n",
       "      <td>2001.0</td>\n",
       "      <td>0.0</td>\n",
       "      <td>1.731252</td>\n",
       "    </tr>\n",
       "    <tr>\n",
       "      <th>VehicleAge</th>\n",
       "      <td>3.0</td>\n",
       "      <td>4.0</td>\n",
       "      <td>5.0</td>\n",
       "      <td>10.0</td>\n",
       "      <td>9.0</td>\n",
       "      <td>4.176644</td>\n",
       "      <td>0.0</td>\n",
       "      <td>0.0</td>\n",
       "      <td>1.712210</td>\n",
       "    </tr>\n",
       "    <tr>\n",
       "      <th>WheelTypeID</th>\n",
       "      <td>1.0</td>\n",
       "      <td>1.0</td>\n",
       "      <td>2.0</td>\n",
       "      <td>4.0</td>\n",
       "      <td>3.0</td>\n",
       "      <td>1.494299</td>\n",
       "      <td>0.0</td>\n",
       "      <td>3169.0</td>\n",
       "      <td>0.521290</td>\n",
       "    </tr>\n",
       "    <tr>\n",
       "      <th>VehOdo</th>\n",
       "      <td>61837.0</td>\n",
       "      <td>73361.0</td>\n",
       "      <td>82436.0</td>\n",
       "      <td>39947.0</td>\n",
       "      <td>115717.0</td>\n",
       "      <td>71499.995917</td>\n",
       "      <td>4825.0</td>\n",
       "      <td>0.0</td>\n",
       "      <td>14578.913128</td>\n",
       "    </tr>\n",
       "    <tr>\n",
       "      <th>MMRAcquisitionAuctionAveragePrice</th>\n",
       "      <td>4273.0</td>\n",
       "      <td>6097.0</td>\n",
       "      <td>7765.0</td>\n",
       "      <td>10342.0</td>\n",
       "      <td>35722.0</td>\n",
       "      <td>6128.909217</td>\n",
       "      <td>0.0</td>\n",
       "      <td>18.0</td>\n",
       "      <td>2461.992768</td>\n",
       "    </tr>\n",
       "    <tr>\n",
       "      <th>MMRAcquisitionAuctionCleanPrice</th>\n",
       "      <td>5406.0</td>\n",
       "      <td>7303.0</td>\n",
       "      <td>9021.0</td>\n",
       "      <td>11379.0</td>\n",
       "      <td>36859.0</td>\n",
       "      <td>7373.636031</td>\n",
       "      <td>0.0</td>\n",
       "      <td>18.0</td>\n",
       "      <td>2722.491986</td>\n",
       "    </tr>\n",
       "    <tr>\n",
       "      <th>MMRAcquisitionRetailAveragePrice</th>\n",
       "      <td>6280.0</td>\n",
       "      <td>8444.0</td>\n",
       "      <td>10651.0</td>\n",
       "      <td>12725.0</td>\n",
       "      <td>39080.0</td>\n",
       "      <td>8497.034332</td>\n",
       "      <td>0.0</td>\n",
       "      <td>18.0</td>\n",
       "      <td>3156.285284</td>\n",
       "    </tr>\n",
       "    <tr>\n",
       "      <th>MMRAcquisitonRetailCleanPrice</th>\n",
       "      <td>7493.0</td>\n",
       "      <td>9789.0</td>\n",
       "      <td>12088.0</td>\n",
       "      <td>13456.0</td>\n",
       "      <td>41482.0</td>\n",
       "      <td>9850.928240</td>\n",
       "      <td>0.0</td>\n",
       "      <td>18.0</td>\n",
       "      <td>3385.789541</td>\n",
       "    </tr>\n",
       "    <tr>\n",
       "      <th>MMRCurrentAuctionAveragePrice</th>\n",
       "      <td>4275.0</td>\n",
       "      <td>6062.0</td>\n",
       "      <td>7736.0</td>\n",
       "      <td>10315.0</td>\n",
       "      <td>35722.0</td>\n",
       "      <td>6132.081287</td>\n",
       "      <td>0.0</td>\n",
       "      <td>315.0</td>\n",
       "      <td>2434.567723</td>\n",
       "    </tr>\n",
       "    <tr>\n",
       "      <th>MMRCurrentAuctionCleanPrice</th>\n",
       "      <td>5414.0</td>\n",
       "      <td>7313.0</td>\n",
       "      <td>9013.0</td>\n",
       "      <td>11265.0</td>\n",
       "      <td>36859.0</td>\n",
       "      <td>7390.681827</td>\n",
       "      <td>0.0</td>\n",
       "      <td>315.0</td>\n",
       "      <td>2686.248852</td>\n",
       "    </tr>\n",
       "    <tr>\n",
       "      <th>MMRCurrentRetailAveragePrice</th>\n",
       "      <td>6536.0</td>\n",
       "      <td>8729.0</td>\n",
       "      <td>10911.0</td>\n",
       "      <td>12493.0</td>\n",
       "      <td>39080.0</td>\n",
       "      <td>8775.723331</td>\n",
       "      <td>0.0</td>\n",
       "      <td>315.0</td>\n",
       "      <td>3090.702941</td>\n",
       "    </tr>\n",
       "    <tr>\n",
       "      <th>MMRCurrentRetailCleanPrice</th>\n",
       "      <td>7784.0</td>\n",
       "      <td>10103.0</td>\n",
       "      <td>12309.0</td>\n",
       "      <td>13192.0</td>\n",
       "      <td>41062.0</td>\n",
       "      <td>10145.385314</td>\n",
       "      <td>0.0</td>\n",
       "      <td>315.0</td>\n",
       "      <td>3310.254351</td>\n",
       "    </tr>\n",
       "    <tr>\n",
       "      <th>BYRNO</th>\n",
       "      <td>17212.0</td>\n",
       "      <td>19662.0</td>\n",
       "      <td>22808.0</td>\n",
       "      <td>74.0</td>\n",
       "      <td>99761.0</td>\n",
       "      <td>26345.842155</td>\n",
       "      <td>835.0</td>\n",
       "      <td>0.0</td>\n",
       "      <td>25717.351219</td>\n",
       "    </tr>\n",
       "    <tr>\n",
       "      <th>VNZIP1</th>\n",
       "      <td>32124.0</td>\n",
       "      <td>73108.0</td>\n",
       "      <td>80022.0</td>\n",
       "      <td>153.0</td>\n",
       "      <td>99224.0</td>\n",
       "      <td>58043.059945</td>\n",
       "      <td>2764.0</td>\n",
       "      <td>0.0</td>\n",
       "      <td>26151.640415</td>\n",
       "    </tr>\n",
       "    <tr>\n",
       "      <th>VehBCost</th>\n",
       "      <td>5435.0</td>\n",
       "      <td>6700.0</td>\n",
       "      <td>7900.0</td>\n",
       "      <td>2072.0</td>\n",
       "      <td>45469.0</td>\n",
       "      <td>6730.934326</td>\n",
       "      <td>1.0</td>\n",
       "      <td>0.0</td>\n",
       "      <td>1767.846435</td>\n",
       "    </tr>\n",
       "    <tr>\n",
       "      <th>IsOnlineSale</th>\n",
       "      <td>0.0</td>\n",
       "      <td>0.0</td>\n",
       "      <td>0.0</td>\n",
       "      <td>2.0</td>\n",
       "      <td>1.0</td>\n",
       "      <td>0.025280</td>\n",
       "      <td>0.0</td>\n",
       "      <td>0.0</td>\n",
       "      <td>0.156975</td>\n",
       "    </tr>\n",
       "    <tr>\n",
       "      <th>WarrantyCost</th>\n",
       "      <td>837.0</td>\n",
       "      <td>1155.0</td>\n",
       "      <td>1623.0</td>\n",
       "      <td>281.0</td>\n",
       "      <td>7498.0</td>\n",
       "      <td>1276.580985</td>\n",
       "      <td>462.0</td>\n",
       "      <td>0.0</td>\n",
       "      <td>598.846788</td>\n",
       "    </tr>\n",
       "    <tr>\n",
       "      <th>PurchDate</th>\n",
       "      <td>NaN</td>\n",
       "      <td>NaN</td>\n",
       "      <td>NaN</td>\n",
       "      <td>517.0</td>\n",
       "      <td>NaN</td>\n",
       "      <td>NaN</td>\n",
       "      <td>NaN</td>\n",
       "      <td>0.0</td>\n",
       "      <td>NaN</td>\n",
       "    </tr>\n",
       "    <tr>\n",
       "      <th>Auction</th>\n",
       "      <td>NaN</td>\n",
       "      <td>NaN</td>\n",
       "      <td>NaN</td>\n",
       "      <td>3.0</td>\n",
       "      <td>NaN</td>\n",
       "      <td>NaN</td>\n",
       "      <td>NaN</td>\n",
       "      <td>0.0</td>\n",
       "      <td>NaN</td>\n",
       "    </tr>\n",
       "    <tr>\n",
       "      <th>Make</th>\n",
       "      <td>NaN</td>\n",
       "      <td>NaN</td>\n",
       "      <td>NaN</td>\n",
       "      <td>33.0</td>\n",
       "      <td>NaN</td>\n",
       "      <td>NaN</td>\n",
       "      <td>NaN</td>\n",
       "      <td>0.0</td>\n",
       "      <td>NaN</td>\n",
       "    </tr>\n",
       "    <tr>\n",
       "      <th>Model</th>\n",
       "      <td>NaN</td>\n",
       "      <td>NaN</td>\n",
       "      <td>NaN</td>\n",
       "      <td>1063.0</td>\n",
       "      <td>NaN</td>\n",
       "      <td>NaN</td>\n",
       "      <td>NaN</td>\n",
       "      <td>0.0</td>\n",
       "      <td>NaN</td>\n",
       "    </tr>\n",
       "    <tr>\n",
       "      <th>Trim</th>\n",
       "      <td>NaN</td>\n",
       "      <td>NaN</td>\n",
       "      <td>NaN</td>\n",
       "      <td>134.0</td>\n",
       "      <td>NaN</td>\n",
       "      <td>NaN</td>\n",
       "      <td>NaN</td>\n",
       "      <td>2360.0</td>\n",
       "      <td>NaN</td>\n",
       "    </tr>\n",
       "    <tr>\n",
       "      <th>SubModel</th>\n",
       "      <td>NaN</td>\n",
       "      <td>NaN</td>\n",
       "      <td>NaN</td>\n",
       "      <td>863.0</td>\n",
       "      <td>NaN</td>\n",
       "      <td>NaN</td>\n",
       "      <td>NaN</td>\n",
       "      <td>8.0</td>\n",
       "      <td>NaN</td>\n",
       "    </tr>\n",
       "    <tr>\n",
       "      <th>Color</th>\n",
       "      <td>NaN</td>\n",
       "      <td>NaN</td>\n",
       "      <td>NaN</td>\n",
       "      <td>16.0</td>\n",
       "      <td>NaN</td>\n",
       "      <td>NaN</td>\n",
       "      <td>NaN</td>\n",
       "      <td>8.0</td>\n",
       "      <td>NaN</td>\n",
       "    </tr>\n",
       "    <tr>\n",
       "      <th>Transmission</th>\n",
       "      <td>NaN</td>\n",
       "      <td>NaN</td>\n",
       "      <td>NaN</td>\n",
       "      <td>3.0</td>\n",
       "      <td>NaN</td>\n",
       "      <td>NaN</td>\n",
       "      <td>NaN</td>\n",
       "      <td>9.0</td>\n",
       "      <td>NaN</td>\n",
       "    </tr>\n",
       "    <tr>\n",
       "      <th>WheelType</th>\n",
       "      <td>NaN</td>\n",
       "      <td>NaN</td>\n",
       "      <td>NaN</td>\n",
       "      <td>3.0</td>\n",
       "      <td>NaN</td>\n",
       "      <td>NaN</td>\n",
       "      <td>NaN</td>\n",
       "      <td>3174.0</td>\n",
       "      <td>NaN</td>\n",
       "    </tr>\n",
       "    <tr>\n",
       "      <th>Nationality</th>\n",
       "      <td>NaN</td>\n",
       "      <td>NaN</td>\n",
       "      <td>NaN</td>\n",
       "      <td>4.0</td>\n",
       "      <td>NaN</td>\n",
       "      <td>NaN</td>\n",
       "      <td>NaN</td>\n",
       "      <td>5.0</td>\n",
       "      <td>NaN</td>\n",
       "    </tr>\n",
       "    <tr>\n",
       "      <th>Size</th>\n",
       "      <td>NaN</td>\n",
       "      <td>NaN</td>\n",
       "      <td>NaN</td>\n",
       "      <td>12.0</td>\n",
       "      <td>NaN</td>\n",
       "      <td>NaN</td>\n",
       "      <td>NaN</td>\n",
       "      <td>5.0</td>\n",
       "      <td>NaN</td>\n",
       "    </tr>\n",
       "    <tr>\n",
       "      <th>TopThreeAmericanName</th>\n",
       "      <td>NaN</td>\n",
       "      <td>NaN</td>\n",
       "      <td>NaN</td>\n",
       "      <td>4.0</td>\n",
       "      <td>NaN</td>\n",
       "      <td>NaN</td>\n",
       "      <td>NaN</td>\n",
       "      <td>5.0</td>\n",
       "      <td>NaN</td>\n",
       "    </tr>\n",
       "    <tr>\n",
       "      <th>PRIMEUNIT</th>\n",
       "      <td>NaN</td>\n",
       "      <td>NaN</td>\n",
       "      <td>NaN</td>\n",
       "      <td>2.0</td>\n",
       "      <td>NaN</td>\n",
       "      <td>NaN</td>\n",
       "      <td>NaN</td>\n",
       "      <td>69564.0</td>\n",
       "      <td>NaN</td>\n",
       "    </tr>\n",
       "    <tr>\n",
       "      <th>AUCGUART</th>\n",
       "      <td>NaN</td>\n",
       "      <td>NaN</td>\n",
       "      <td>NaN</td>\n",
       "      <td>2.0</td>\n",
       "      <td>NaN</td>\n",
       "      <td>NaN</td>\n",
       "      <td>NaN</td>\n",
       "      <td>69564.0</td>\n",
       "      <td>NaN</td>\n",
       "    </tr>\n",
       "    <tr>\n",
       "      <th>VNST</th>\n",
       "      <td>NaN</td>\n",
       "      <td>NaN</td>\n",
       "      <td>NaN</td>\n",
       "      <td>37.0</td>\n",
       "      <td>NaN</td>\n",
       "      <td>NaN</td>\n",
       "      <td>NaN</td>\n",
       "      <td>0.0</td>\n",
       "      <td>NaN</td>\n",
       "    </tr>\n",
       "  </tbody>\n",
       "</table>\n",
       "</div>"
      ],
      "text/plain": [
       "                                       25%      50%      75%  distinct  \\\n",
       "RefId                              18257.5  36514.0  54764.5   72983.0   \n",
       "IsBadBuy                               0.0      0.0      0.0       2.0   \n",
       "VehYear                             2004.0   2005.0   2007.0      10.0   \n",
       "VehicleAge                             3.0      4.0      5.0      10.0   \n",
       "WheelTypeID                            1.0      1.0      2.0       4.0   \n",
       "VehOdo                             61837.0  73361.0  82436.0   39947.0   \n",
       "MMRAcquisitionAuctionAveragePrice   4273.0   6097.0   7765.0   10342.0   \n",
       "MMRAcquisitionAuctionCleanPrice     5406.0   7303.0   9021.0   11379.0   \n",
       "MMRAcquisitionRetailAveragePrice    6280.0   8444.0  10651.0   12725.0   \n",
       "MMRAcquisitonRetailCleanPrice       7493.0   9789.0  12088.0   13456.0   \n",
       "MMRCurrentAuctionAveragePrice       4275.0   6062.0   7736.0   10315.0   \n",
       "MMRCurrentAuctionCleanPrice         5414.0   7313.0   9013.0   11265.0   \n",
       "MMRCurrentRetailAveragePrice        6536.0   8729.0  10911.0   12493.0   \n",
       "MMRCurrentRetailCleanPrice          7784.0  10103.0  12309.0   13192.0   \n",
       "BYRNO                              17212.0  19662.0  22808.0      74.0   \n",
       "VNZIP1                             32124.0  73108.0  80022.0     153.0   \n",
       "VehBCost                            5435.0   6700.0   7900.0    2072.0   \n",
       "IsOnlineSale                           0.0      0.0      0.0       2.0   \n",
       "WarrantyCost                         837.0   1155.0   1623.0     281.0   \n",
       "PurchDate                              NaN      NaN      NaN     517.0   \n",
       "Auction                                NaN      NaN      NaN       3.0   \n",
       "Make                                   NaN      NaN      NaN      33.0   \n",
       "Model                                  NaN      NaN      NaN    1063.0   \n",
       "Trim                                   NaN      NaN      NaN     134.0   \n",
       "SubModel                               NaN      NaN      NaN     863.0   \n",
       "Color                                  NaN      NaN      NaN      16.0   \n",
       "Transmission                           NaN      NaN      NaN       3.0   \n",
       "WheelType                              NaN      NaN      NaN       3.0   \n",
       "Nationality                            NaN      NaN      NaN       4.0   \n",
       "Size                                   NaN      NaN      NaN      12.0   \n",
       "TopThreeAmericanName                   NaN      NaN      NaN       4.0   \n",
       "PRIMEUNIT                              NaN      NaN      NaN       2.0   \n",
       "AUCGUART                               NaN      NaN      NaN       2.0   \n",
       "VNST                                   NaN      NaN      NaN      37.0   \n",
       "\n",
       "                                        max          mean     min  missing  \\\n",
       "RefId                               73014.0  36511.428497     1.0      0.0   \n",
       "IsBadBuy                                1.0      0.122988     0.0      0.0   \n",
       "VehYear                              2010.0   2005.343052  2001.0      0.0   \n",
       "VehicleAge                              9.0      4.176644     0.0      0.0   \n",
       "WheelTypeID                             3.0      1.494299     0.0   3169.0   \n",
       "VehOdo                             115717.0  71499.995917  4825.0      0.0   \n",
       "MMRAcquisitionAuctionAveragePrice   35722.0   6128.909217     0.0     18.0   \n",
       "MMRAcquisitionAuctionCleanPrice     36859.0   7373.636031     0.0     18.0   \n",
       "MMRAcquisitionRetailAveragePrice    39080.0   8497.034332     0.0     18.0   \n",
       "MMRAcquisitonRetailCleanPrice       41482.0   9850.928240     0.0     18.0   \n",
       "MMRCurrentAuctionAveragePrice       35722.0   6132.081287     0.0    315.0   \n",
       "MMRCurrentAuctionCleanPrice         36859.0   7390.681827     0.0    315.0   \n",
       "MMRCurrentRetailAveragePrice        39080.0   8775.723331     0.0    315.0   \n",
       "MMRCurrentRetailCleanPrice          41062.0  10145.385314     0.0    315.0   \n",
       "BYRNO                               99761.0  26345.842155   835.0      0.0   \n",
       "VNZIP1                              99224.0  58043.059945  2764.0      0.0   \n",
       "VehBCost                            45469.0   6730.934326     1.0      0.0   \n",
       "IsOnlineSale                            1.0      0.025280     0.0      0.0   \n",
       "WarrantyCost                         7498.0   1276.580985   462.0      0.0   \n",
       "PurchDate                               NaN           NaN     NaN      0.0   \n",
       "Auction                                 NaN           NaN     NaN      0.0   \n",
       "Make                                    NaN           NaN     NaN      0.0   \n",
       "Model                                   NaN           NaN     NaN      0.0   \n",
       "Trim                                    NaN           NaN     NaN   2360.0   \n",
       "SubModel                                NaN           NaN     NaN      8.0   \n",
       "Color                                   NaN           NaN     NaN      8.0   \n",
       "Transmission                            NaN           NaN     NaN      9.0   \n",
       "WheelType                               NaN           NaN     NaN   3174.0   \n",
       "Nationality                             NaN           NaN     NaN      5.0   \n",
       "Size                                    NaN           NaN     NaN      5.0   \n",
       "TopThreeAmericanName                    NaN           NaN     NaN      5.0   \n",
       "PRIMEUNIT                               NaN           NaN     NaN  69564.0   \n",
       "AUCGUART                                NaN           NaN     NaN  69564.0   \n",
       "VNST                                    NaN           NaN     NaN      0.0   \n",
       "\n",
       "                                            std  \n",
       "RefId                              21077.241302  \n",
       "IsBadBuy                               0.328425  \n",
       "VehYear                                1.731252  \n",
       "VehicleAge                             1.712210  \n",
       "WheelTypeID                            0.521290  \n",
       "VehOdo                             14578.913128  \n",
       "MMRAcquisitionAuctionAveragePrice   2461.992768  \n",
       "MMRAcquisitionAuctionCleanPrice     2722.491986  \n",
       "MMRAcquisitionRetailAveragePrice    3156.285284  \n",
       "MMRAcquisitonRetailCleanPrice       3385.789541  \n",
       "MMRCurrentAuctionAveragePrice       2434.567723  \n",
       "MMRCurrentAuctionCleanPrice         2686.248852  \n",
       "MMRCurrentRetailAveragePrice        3090.702941  \n",
       "MMRCurrentRetailCleanPrice          3310.254351  \n",
       "BYRNO                              25717.351219  \n",
       "VNZIP1                             26151.640415  \n",
       "VehBCost                            1767.846435  \n",
       "IsOnlineSale                           0.156975  \n",
       "WarrantyCost                         598.846788  \n",
       "PurchDate                                   NaN  \n",
       "Auction                                     NaN  \n",
       "Make                                        NaN  \n",
       "Model                                       NaN  \n",
       "Trim                                        NaN  \n",
       "SubModel                                    NaN  \n",
       "Color                                       NaN  \n",
       "Transmission                                NaN  \n",
       "WheelType                                   NaN  \n",
       "Nationality                                 NaN  \n",
       "Size                                        NaN  \n",
       "TopThreeAmericanName                        NaN  \n",
       "PRIMEUNIT                                   NaN  \n",
       "AUCGUART                                    NaN  \n",
       "VNST                                        NaN  "
      ]
     },
     "execution_count": 10,
     "metadata": {},
     "output_type": "execute_result"
    }
   ],
   "source": [
    "train_description"
   ]
  },
  {
   "cell_type": "markdown",
   "metadata": {},
   "source": [
    "From this table, we can see that there are 95% of the PRIMEUNIT and AUCGUART columns are missing values, other than that, WheelTypeID Trim and WheelType have around 3000 missing values, although they are not so much comparing to the whole data set, yet WheelTypeID and WheelType are actually giving the same information, we can drop one of them. The others can be imputed as unkonwn for the categorical features and median for the numerical features. \n",
    "\n",
    "### Variable Covariance"
   ]
  },
  {
   "cell_type": "code",
   "execution_count": 11,
   "metadata": {
    "collapsed": false
   },
   "outputs": [
    {
     "data": {
      "text/plain": [
       "<matplotlib.axes._subplots.AxesSubplot at 0x11248e310>"
      ]
     },
     "execution_count": 11,
     "metadata": {},
     "output_type": "execute_result"
    },
    {
     "data": {
      "image/png": "[encoded data removed]",
      "text/plain": [
       "<matplotlib.figure.Figure at 0x112db39d0>"
      ]
     },
     "metadata": {},
     "output_type": "display_data"
    }
   ],
   "source": [
    "corr = train_df.drop(['RefId','IsBadBuy'],1).corr()\n",
    "plt.figure(figsize = (12,8))\n",
    "sb.heatmap(corr) "
   ]
  },
  {
   "cell_type": "markdown",
   "metadata": {},
   "source": [
    "This heatmap shows the correlation inbetween any two of the numberical features. Altought high correlated features tend to give similar information and may be redundant. However at this point, we can not say for sure if they are indeed redudant. As a result, I also checked on how each of them contributes to the target variable using the mutual information. \n",
    "\n",
    "### Get Mutual information of each preditor to the label"
   ]
  },
  {
   "cell_type": "code",
   "execution_count": 12,
   "metadata": {
    "collapsed": false
   },
   "outputs": [
    {
     "data": {
      "text/html": [
       "<div>\n",
       "<table border=\"1\" class=\"dataframe\">\n",
       "  <thead>\n",
       "    <tr style=\"text-align: right;\">\n",
       "      <th></th>\n",
       "      <th>column</th>\n",
       "      <th>MI</th>\n",
       "    </tr>\n",
       "  </thead>\n",
       "  <tbody>\n",
       "    <tr>\n",
       "      <th>0</th>\n",
       "      <td>RefId</td>\n",
       "      <td>0.182469</td>\n",
       "    </tr>\n",
       "    <tr>\n",
       "      <th>1</th>\n",
       "      <td>PRIMEUNIT</td>\n",
       "      <td>0.181799</td>\n",
       "    </tr>\n",
       "    <tr>\n",
       "      <th>2</th>\n",
       "      <td>AUCGUART</td>\n",
       "      <td>0.181798</td>\n",
       "    </tr>\n",
       "    <tr>\n",
       "      <th>3</th>\n",
       "      <td>VehOdo</td>\n",
       "      <td>0.117158</td>\n",
       "    </tr>\n",
       "    <tr>\n",
       "      <th>4</th>\n",
       "      <td>WheelType</td>\n",
       "      <td>0.103684</td>\n",
       "    </tr>\n",
       "    <tr>\n",
       "      <th>5</th>\n",
       "      <td>WheelTypeID</td>\n",
       "      <td>0.103638</td>\n",
       "    </tr>\n",
       "    <tr>\n",
       "      <th>6</th>\n",
       "      <td>MMRCurrentRetailCleanPrice</td>\n",
       "      <td>0.060855</td>\n",
       "    </tr>\n",
       "    <tr>\n",
       "      <th>7</th>\n",
       "      <td>MMRCurrentRetailAveragePrice</td>\n",
       "      <td>0.058303</td>\n",
       "    </tr>\n",
       "    <tr>\n",
       "      <th>8</th>\n",
       "      <td>MMRAcquisitonRetailCleanPrice</td>\n",
       "      <td>0.057587</td>\n",
       "    </tr>\n",
       "    <tr>\n",
       "      <th>9</th>\n",
       "      <td>MMRAcquisitionRetailAveragePrice</td>\n",
       "      <td>0.055872</td>\n",
       "    </tr>\n",
       "    <tr>\n",
       "      <th>10</th>\n",
       "      <td>MMRCurrentAuctionCleanPrice</td>\n",
       "      <td>0.053213</td>\n",
       "    </tr>\n",
       "    <tr>\n",
       "      <th>11</th>\n",
       "      <td>MMRAcquisitionAuctionCleanPrice</td>\n",
       "      <td>0.051507</td>\n",
       "    </tr>\n",
       "    <tr>\n",
       "      <th>12</th>\n",
       "      <td>MMRCurrentAuctionAveragePrice</td>\n",
       "      <td>0.049571</td>\n",
       "    </tr>\n",
       "    <tr>\n",
       "      <th>13</th>\n",
       "      <td>MMRAcquisitionAuctionAveragePrice</td>\n",
       "      <td>0.048691</td>\n",
       "    </tr>\n",
       "    <tr>\n",
       "      <th>14</th>\n",
       "      <td>Trim</td>\n",
       "      <td>0.017301</td>\n",
       "    </tr>\n",
       "    <tr>\n",
       "      <th>15</th>\n",
       "      <td>VehBCost</td>\n",
       "      <td>0.016656</td>\n",
       "    </tr>\n",
       "    <tr>\n",
       "      <th>16</th>\n",
       "      <td>VehicleAge</td>\n",
       "      <td>0.016103</td>\n",
       "    </tr>\n",
       "    <tr>\n",
       "      <th>17</th>\n",
       "      <td>Model</td>\n",
       "      <td>0.015471</td>\n",
       "    </tr>\n",
       "    <tr>\n",
       "      <th>18</th>\n",
       "      <td>VehYear</td>\n",
       "      <td>0.014609</td>\n",
       "    </tr>\n",
       "    <tr>\n",
       "      <th>19</th>\n",
       "      <td>SubModel</td>\n",
       "      <td>0.012905</td>\n",
       "    </tr>\n",
       "    <tr>\n",
       "      <th>20</th>\n",
       "      <td>WarrantyCost</td>\n",
       "      <td>0.010357</td>\n",
       "    </tr>\n",
       "    <tr>\n",
       "      <th>21</th>\n",
       "      <td>VNZIP1</td>\n",
       "      <td>0.006922</td>\n",
       "    </tr>\n",
       "    <tr>\n",
       "      <th>22</th>\n",
       "      <td>PurchDate</td>\n",
       "      <td>0.005415</td>\n",
       "    </tr>\n",
       "    <tr>\n",
       "      <th>23</th>\n",
       "      <td>BYRNO</td>\n",
       "      <td>0.005142</td>\n",
       "    </tr>\n",
       "    <tr>\n",
       "      <th>24</th>\n",
       "      <td>Make</td>\n",
       "      <td>0.003238</td>\n",
       "    </tr>\n",
       "    <tr>\n",
       "      <th>25</th>\n",
       "      <td>Size</td>\n",
       "      <td>0.002479</td>\n",
       "    </tr>\n",
       "    <tr>\n",
       "      <th>26</th>\n",
       "      <td>TopThreeAmericanName</td>\n",
       "      <td>0.001890</td>\n",
       "    </tr>\n",
       "    <tr>\n",
       "      <th>27</th>\n",
       "      <td>VNST</td>\n",
       "      <td>0.001570</td>\n",
       "    </tr>\n",
       "    <tr>\n",
       "      <th>28</th>\n",
       "      <td>Auction</td>\n",
       "      <td>0.001517</td>\n",
       "    </tr>\n",
       "    <tr>\n",
       "      <th>29</th>\n",
       "      <td>Color</td>\n",
       "      <td>0.000517</td>\n",
       "    </tr>\n",
       "    <tr>\n",
       "      <th>30</th>\n",
       "      <td>Transmission</td>\n",
       "      <td>0.000221</td>\n",
       "    </tr>\n",
       "    <tr>\n",
       "      <th>31</th>\n",
       "      <td>Nationality</td>\n",
       "      <td>0.000216</td>\n",
       "    </tr>\n",
       "    <tr>\n",
       "      <th>32</th>\n",
       "      <td>IsOnlineSale</td>\n",
       "      <td>0.000033</td>\n",
       "    </tr>\n",
       "  </tbody>\n",
       "</table>\n",
       "</div>"
      ],
      "text/plain": [
       "                               column        MI\n",
       "0                               RefId  0.182469\n",
       "1                           PRIMEUNIT  0.181799\n",
       "2                            AUCGUART  0.181798\n",
       "3                              VehOdo  0.117158\n",
       "4                           WheelType  0.103684\n",
       "5                         WheelTypeID  0.103638\n",
       "6          MMRCurrentRetailCleanPrice  0.060855\n",
       "7        MMRCurrentRetailAveragePrice  0.058303\n",
       "8       MMRAcquisitonRetailCleanPrice  0.057587\n",
       "9    MMRAcquisitionRetailAveragePrice  0.055872\n",
       "10        MMRCurrentAuctionCleanPrice  0.053213\n",
       "11    MMRAcquisitionAuctionCleanPrice  0.051507\n",
       "12      MMRCurrentAuctionAveragePrice  0.049571\n",
       "13  MMRAcquisitionAuctionAveragePrice  0.048691\n",
       "14                               Trim  0.017301\n",
       "15                           VehBCost  0.016656\n",
       "16                         VehicleAge  0.016103\n",
       "17                              Model  0.015471\n",
       "18                            VehYear  0.014609\n",
       "19                           SubModel  0.012905\n",
       "20                       WarrantyCost  0.010357\n",
       "21                             VNZIP1  0.006922\n",
       "22                          PurchDate  0.005415\n",
       "23                              BYRNO  0.005142\n",
       "24                               Make  0.003238\n",
       "25                               Size  0.002479\n",
       "26               TopThreeAmericanName  0.001890\n",
       "27                               VNST  0.001570\n",
       "28                            Auction  0.001517\n",
       "29                              Color  0.000517\n",
       "30                       Transmission  0.000221\n",
       "31                        Nationality  0.000216\n",
       "32                       IsOnlineSale  0.000033"
      ]
     },
     "metadata": {},
     "output_type": "display_data"
    },
    {
     "data": {
      "image/png": "[encoded data removed]",
      "text/plain": [
       "<matplotlib.figure.Figure at 0x1083993d0>"
      ]
     },
     "metadata": {},
     "output_type": "display_data"
    }
   ],
   "source": [
    "helper.get_MI(train_df, 'IsBadBuy', plot=True, df_display=True)"
   ]
  },
  {
   "cell_type": "markdown",
   "metadata": {},
   "source": [
    "As we can see from here, the high-correlated features actually contributes quite a lot of information compared the lots of the others. RefID is just the ordinal index of the instances, which should be dropped for modeling. The hight-correlated features and the unbalanced target classes may suggest a tree-based model is better for the problem."
   ]
  },
  {
   "cell_type": "markdown",
   "metadata": {},
   "source": [
    "### Feature selection & data processing\n",
    "From here, I would like to do the following deletion of the original features:\n",
    "\n",
    "1) As the last 4 columns (i.e. Color, Transmission, Nationality, IsOnlineSale according to the MI plot) carry so little information about the target, I decided to drop them. \n",
    "\n",
    "2) In addtion, as PRIMEUNIT and AUCGUART have a lot of missing values (69564 out of 72983 entries),they are dropped as well. \n",
    "\n",
    "3) WheelTypeID is dropped as it gives identical information as WheelType does. Same resaon apply to VNZIP (also, VNZIP is divided into much finer categories, using VNZIP already provide enough region infomation as using for a frist-thought model, yet since this feature contains so many categories, I decided to drop them.)\n",
    "\n",
    "4) BYRNO, and RefID are dropped as they do not contribute significant information.\n",
    "\n",
    "5) Model, SubModel and Trim columns are dropped, they involves so many categories. \n",
    "\n",
    "6) PurchDate is dropped as time should be considered separately.\n",
    "\n",
    "Then for the rest of features, impute them in the aforementioned way then apply one-hot encoding on the categorical ones. This will then increase the number of features for the later model."
   ]
  },
  {
   "cell_type": "code",
   "execution_count": 13,
   "metadata": {
    "collapsed": false
   },
   "outputs": [],
   "source": [
    "\"\"\"since the train data and test data may not contain the same information for each column concatenating them for \n",
    "the preprocessing is to avoid missing ceating dummy columns\n",
    "\n",
    "The preprocess function includes dropping un-needed columns, imputation and creating one-hot encoding \n",
    "\"\"\"\n",
    "whole_df = pd.concat([train_df, test_df])\n",
    "whole_df2 = helper.preprocess(whole_df)"
   ]
  },
  {
   "cell_type": "code",
   "execution_count": 14,
   "metadata": {
    "collapsed": false
   },
   "outputs": [
    {
     "data": {
      "text/plain": [
       "(121690, 71)"
      ]
     },
     "execution_count": 14,
     "metadata": {},
     "output_type": "execute_result"
    }
   ],
   "source": [
    "whole_df2.shape"
   ]
  },
  {
   "cell_type": "code",
   "execution_count": 15,
   "metadata": {
    "collapsed": true
   },
   "outputs": [],
   "source": [
    "train_df2 = whole_df2.iloc[:72983:, :]\n",
    "test_df2 = whole_df2.iloc[72983::, :].drop([\"IsBadBuy\"],1)"
   ]
  },
  {
   "cell_type": "markdown",
   "metadata": {},
   "source": [
    "After this data processing, features has increased to 588."
   ]
  },
  {
   "cell_type": "markdown",
   "metadata": {},
   "source": [
    "###### Since there is a time feature, we can make a simple time series plot to see how the trend of the badbuy is"
   ]
  },
  {
   "cell_type": "code",
   "execution_count": 16,
   "metadata": {
    "collapsed": false
   },
   "outputs": [
    {
     "data": {
      "text/plain": [
       "count          72983\n",
       "unique           517\n",
       "top       11/23/2010\n",
       "freq             384\n",
       "Name: PurchDate, dtype: object"
      ]
     },
     "execution_count": 16,
     "metadata": {},
     "output_type": "execute_result"
    }
   ],
   "source": [
    "train_df.PurchDate.describe()"
   ]
  },
  {
   "cell_type": "code",
   "execution_count": 17,
   "metadata": {
    "collapsed": false
   },
   "outputs": [],
   "source": [
    "ts = train_df[['PurchDate','IsBadBuy']]\n",
    "ts.PurchDate = pd.to_datetime(ts.PurchDate) ### change PurchDate type from Object to datetime"
   ]
  },
  {
   "cell_type": "code",
   "execution_count": 18,
   "metadata": {
    "collapsed": false
   },
   "outputs": [
    {
     "data": {
      "text/plain": [
       "<matplotlib.axes._subplots.AxesSubplot at 0x1122c1290>"
      ]
     },
     "execution_count": 18,
     "metadata": {},
     "output_type": "execute_result"
    },
    {
     "data": {
      "image/png": "[encoded data removed]",
      "text/plain": [
       "<matplotlib.figure.Figure at 0x112037490>"
      ]
     },
     "metadata": {},
     "output_type": "display_data"
    }
   ],
   "source": [
    "ts = ts.set_index('PurchDate')\n",
    "ts.resample(\"1W\",how=np.sum).plot(figsize=(12,6))"
   ]
  },
  {
   "cell_type": "markdown",
   "metadata": {},
   "source": [
    "It appears to have a seasonality in the number of badbuys, such as a drop in Spring through summer, further analsis may be needed."
   ]
  },
  {
   "cell_type": "markdown",
   "metadata": {},
   "source": [
    "## Model"
   ]
  },
  {
   "cell_type": "markdown",
   "metadata": {},
   "source": [
    "As the class distribution in the target is very imbalanced, tree-based model should be a good candidate. In addition, gradient boosting algorithms are good for inblalanced class problems as well. Here I chose to use a simple boosting method which is an AdaBoost with a tree stum as the base classifier. As we know, the accuracy is not a good evaluation metric for imbalanced class problems, I have chosen the ROC-AUC as the model evaluation metric for this problem. "
   ]
  },
  {
   "cell_type": "code",
   "execution_count": 19,
   "metadata": {
    "collapsed": false
   },
   "outputs": [],
   "source": [
    "from sklearn.model_selection import train_test_split\n",
    "import sklearn.metrics as skm\n",
    "from sklearn.model_selection import GridSearchCV\n",
    "from sklearn.tree import DecisionTreeClassifier\n",
    "from sklearn.ensemble import AdaBoostClassifier\n",
    "import time"
   ]
  },
  {
   "cell_type": "code",
   "execution_count": 20,
   "metadata": {
    "collapsed": false
   },
   "outputs": [],
   "source": [
    "### split training data into 70% of training and 30% of validation \n",
    "X, y = train_df2.iloc[:, 1::].values, train_df2.iloc[:, 0].values\n",
    "X_train, X_val, y_train, y_val = train_test_split(X, y, test_size = 0.3, random_state = 0)"
   ]
  },
  {
   "cell_type": "code",
   "execution_count": 21,
   "metadata": {
    "collapsed": true
   },
   "outputs": [],
   "source": [
    "Ada = AdaBoostClassifier(DecisionTreeClassifier(max_depth=1, random_state=11))"
   ]
  },
  {
   "cell_type": "markdown",
   "metadata": {},
   "source": [
    "###### default AdaBoost"
   ]
  },
  {
   "cell_type": "code",
   "execution_count": 22,
   "metadata": {
    "collapsed": false
   },
   "outputs": [
    {
     "data": {
      "text/plain": [
       "AdaBoostClassifier(algorithm='SAMME.R',\n",
       "          base_estimator=DecisionTreeClassifier(class_weight=None, criterion='gini', max_depth=1,\n",
       "            max_features=None, max_leaf_nodes=None,\n",
       "            min_impurity_split=1e-07, min_samples_leaf=1,\n",
       "            min_samples_split=2, min_weight_fraction_leaf=0.0,\n",
       "            presort=False, random_state=11, splitter='best'),\n",
       "          learning_rate=1.0, n_estimators=50, random_state=None)"
      ]
     },
     "execution_count": 22,
     "metadata": {},
     "output_type": "execute_result"
    }
   ],
   "source": [
    "Ada.fit(X_train, y_train)"
   ]
  },
  {
   "cell_type": "code",
   "execution_count": 23,
   "metadata": {
    "collapsed": false
   },
   "outputs": [
    {
     "data": {
      "text/plain": [
       "0.75578076517956261"
      ]
     },
     "execution_count": 23,
     "metadata": {},
     "output_type": "execute_result"
    }
   ],
   "source": [
    "skm.roc_auc_score(y_train, Ada.predict_proba(X_train)[:,1])"
   ]
  },
  {
   "cell_type": "code",
   "execution_count": 24,
   "metadata": {
    "collapsed": false
   },
   "outputs": [
    {
     "data": {
      "text/plain": [
       "0.75217077656449427"
      ]
     },
     "execution_count": 24,
     "metadata": {},
     "output_type": "execute_result"
    }
   ],
   "source": [
    "skm.roc_auc_score(y_val, Ada.predict_proba(X_val)[:,1])"
   ]
  },
  {
   "cell_type": "markdown",
   "metadata": {},
   "source": [
    "###### grid search for a better combination of hyperparameters"
   ]
  },
  {
   "cell_type": "code",
   "execution_count": 25,
   "metadata": {
    "collapsed": true
   },
   "outputs": [],
   "source": [
    "param_grid =  {\"n_estimators\": [100, 500],\n",
    "              \"learning_rate\":[0.1, 0.5],\n",
    "               \"base_estimator__max_features\":[\"auto\",0.3]\n",
    "              }"
   ]
  },
  {
   "cell_type": "code",
   "execution_count": 26,
   "metadata": {
    "collapsed": false
   },
   "outputs": [],
   "source": [
    "grid_search_ada = GridSearchCV(Ada, param_grid=param_grid, scoring='roc_auc')"
   ]
  },
  {
   "cell_type": "code",
   "execution_count": 27,
   "metadata": {
    "collapsed": false
   },
   "outputs": [
    {
     "name": "stdout",
     "output_type": "stream",
     "text": [
      "4.69675765038\n"
     ]
    }
   ],
   "source": [
    "start = time.time()\n",
    "grid_search_ada.fit(X_train, y_train)\n",
    "print (time.time()- start)/60."
   ]
  },
  {
   "cell_type": "code",
   "execution_count": 28,
   "metadata": {
    "collapsed": false
   },
   "outputs": [
    {
     "data": {
      "text/plain": [
       "AdaBoostClassifier(algorithm='SAMME.R',\n",
       "          base_estimator=DecisionTreeClassifier(class_weight=None, criterion='gini', max_depth=1,\n",
       "            max_features=0.3, max_leaf_nodes=None,\n",
       "            min_impurity_split=1e-07, min_samples_leaf=1,\n",
       "            min_samples_split=2, min_weight_fraction_leaf=0.0,\n",
       "            presort=False, random_state=11, splitter='best'),\n",
       "          learning_rate=0.1, n_estimators=500, random_state=None)"
      ]
     },
     "execution_count": 28,
     "metadata": {},
     "output_type": "execute_result"
    }
   ],
   "source": [
    "grid_search_ada.best_estimator_"
   ]
  },
  {
   "cell_type": "code",
   "execution_count": 29,
   "metadata": {
    "collapsed": false
   },
   "outputs": [
    {
     "data": {
      "text/plain": [
       "0.74772581252396975"
      ]
     },
     "execution_count": 29,
     "metadata": {},
     "output_type": "execute_result"
    }
   ],
   "source": [
    "grid_search_ada.best_score_"
   ]
  },
  {
   "cell_type": "code",
   "execution_count": 30,
   "metadata": {
    "collapsed": false
   },
   "outputs": [
    {
     "data": {
      "text/plain": [
       "0.75512543706549984"
      ]
     },
     "execution_count": 30,
     "metadata": {},
     "output_type": "execute_result"
    }
   ],
   "source": [
    "skm.roc_auc_score(y_val, grid_search_ada.best_estimator_.predict_proba(X_val)[:,1])"
   ]
  },
  {
   "cell_type": "code",
   "execution_count": 31,
   "metadata": {
    "collapsed": true
   },
   "outputs": [],
   "source": [
    "X_test = test_df2.values"
   ]
  },
  {
   "cell_type": "code",
   "execution_count": 32,
   "metadata": {
    "collapsed": false
   },
   "outputs": [],
   "source": [
    "pd.DataFrame({\"RefId\": test_df.RefId, \"IsBadBuy\":grid_search_ada.best_estimator_.predict(X_test)}, columns=['RefId','IsBadBuy']).to_csv(\"output.csv\", index=False)"
   ]
  },
  {
   "cell_type": "code",
   "execution_count": null,
   "metadata": {
    "collapsed": true
   },
   "outputs": [],
   "source": []
  },
  {
   "cell_type": "markdown",
   "metadata": {},
   "source": [
    "#### Summary\n",
    "\n",
    "As for the model, I first split the training dataset intor  70% of training and 30% of validation sets. Then tried a few combination of the hyperparameters for model tuning. For the very rough tuning process, all combinations I have tried yielded an ROC-AUC score around 0.75. I have also uploaded the predicted output for the test to the Kaggle competiton which has a ranking about 500. This has suggested that there are better models and algorithms for this problem. And indeed it should have. \n",
    "\n",
    "As for this simple model, one thing to improvie it is to fine tune it further (e.g. cross-validating the tree parameter, lower lerning rate with more estimators, and so on) , which may take much longer to train. \n",
    "\n",
    "As the biggest issue in the problem is that the data is very imbalanced, preprocessing of the data with  over-sampling or down-sampling for the data may possibly boost the performance before we apply this simple AdaBoost model. Besides that, other boosting methods such as XGBoost should be tried for this problem, as XGBoost can handle imblanced data so well, even resampling may not needed as well. "
   ]
  },
  {
   "cell_type": "code",
   "execution_count": null,
   "metadata": {
    "collapsed": true
   },
   "outputs": [],
   "source": []
  }
 ],
 "metadata": {
  "kernelspec": {
   "display_name": "Python 2",
   "language": "python",
   "name": "python2"
  },
  "language_info": {
   "codemirror_mode": {
    "name": "ipython",
    "version": 2
   },
   "file_extension": ".py",
   "mimetype": "text/x-python",
   "name": "python",
   "nbconvert_exporter": "python",
   "pygments_lexer": "ipython2",
   "version": "2.7.13"
  }
 },
 "nbformat": 4,
 "nbformat_minor": 2
}
