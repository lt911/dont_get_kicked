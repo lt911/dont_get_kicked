{
 "cells": [
  {
   "cell_type": "code",
   "execution_count": 1,
   "metadata": {},
   "outputs": [],
   "source": [
    "%reload_ext autoreload\n",
    "%autoreload 2\n",
    "%matplotlib inline\n",
    "\n",
    "import numpy as np\n",
    "import pandas as pd\n",
    "from IPython.display import display, HTML\n",
    "import matplotlib.pyplot as plt\n",
    "import seaborn as sb\n",
    "from collections import *\n",
    "import sklearn.metrics as skm\n",
    "from sklearn.model_selection import train_test_split, cross_val_score, GridSearchCV\n",
    "from sklearn.feature_extraction.text import CountVectorizer, TfidfVectorizer\n",
    "\n",
    "from sklearn_pandas import DataFrameMapper\n",
    "from sklearn.preprocessing import LabelBinarizer, StandardScaler\n",
    "from sklearn.linear_model import LogisticRegression\n",
    "\n",
    "import lightgbm as lgb\n",
    "import matplotlib.pyplot as plt\n",
    "import seaborn\n",
    "\n",
    "import helper_funcs as helper\n",
    "import warnings\n",
    "warnings.filterwarnings('ignore')"
   ]
  },
  {
   "cell_type": "markdown",
   "metadata": {},
   "source": [
    "### Data Exploration"
   ]
  },
  {
   "cell_type": "code",
   "execution_count": 2,
   "metadata": {
    "code_folding": []
   },
   "outputs": [],
   "source": [
    "train_df = pd.read_csv('data/training.csv')\n",
    "test_df = pd.read_csv('data/test.csv')"
   ]
  },
  {
   "cell_type": "code",
   "execution_count": 3,
   "metadata": {
    "code_folding": [
     0
    ]
   },
   "outputs": [
    {
     "data": {
      "text/html": [
       "<div>\n",
       "<style scoped>\n",
       "    .dataframe tbody tr th:only-of-type {\n",
       "        vertical-align: middle;\n",
       "    }\n",
       "\n",
       "    .dataframe tbody tr th {\n",
       "        vertical-align: top;\n",
       "    }\n",
       "\n",
       "    .dataframe thead th {\n",
       "        text-align: right;\n",
       "    }\n",
       "</style>\n",
       "<table border=\"1\" class=\"dataframe\">\n",
       "  <thead>\n",
       "    <tr style=\"text-align: right;\">\n",
       "      <th></th>\n",
       "      <th>row</th>\n",
       "      <th>cols</th>\n",
       "    </tr>\n",
       "  </thead>\n",
       "  <tbody>\n",
       "    <tr>\n",
       "      <th>train_df</th>\n",
       "      <td>72983</td>\n",
       "      <td>34</td>\n",
       "    </tr>\n",
       "    <tr>\n",
       "      <th>test_df</th>\n",
       "      <td>48707</td>\n",
       "      <td>33</td>\n",
       "    </tr>\n",
       "  </tbody>\n",
       "</table>\n",
       "</div>"
      ],
      "text/plain": [
       "            row  cols\n",
       "train_df  72983    34\n",
       "test_df   48707    33"
      ]
     },
     "metadata": {},
     "output_type": "display_data"
    }
   ],
   "source": [
    "shape= pd.DataFrame.from_items([('train_df', train_df.shape), \n",
    "                                ('test_df', test_df.shape)], orient='index', \n",
    "                              columns = ['row', 'cols'])\n",
    "display(shape)"
   ]
  },
  {
   "cell_type": "markdown",
   "metadata": {
    "collapsed": true
   },
   "source": [
    "To see if the dataset is an imbalanced dataset"
   ]
  },
  {
   "cell_type": "code",
   "execution_count": 4,
   "metadata": {},
   "outputs": [
    {
     "data": {
      "text/plain": [
       "0    64007\n",
       "1     8976\n",
       "Name: IsBadBuy, dtype: int64"
      ]
     },
     "execution_count": 4,
     "metadata": {},
     "output_type": "execute_result"
    }
   ],
   "source": [
    "train_df['IsBadBuy'].value_counts()"
   ]
  },
  {
   "cell_type": "code",
   "execution_count": 5,
   "metadata": {},
   "outputs": [
    {
     "name": "stdout",
     "output_type": "stream",
     "text": [
      "0.877012454955\n",
      "0.122987545045\n"
     ]
    }
   ],
   "source": [
    "print(train_df['IsBadBuy'].value_counts().iloc[0]/train_df.shape[0])\n",
    "print(train_df['IsBadBuy'].value_counts().iloc[1]/train_df.shape[0])"
   ]
  },
  {
   "cell_type": "markdown",
   "metadata": {},
   "source": [
    "This is an imbalanced dataset"
   ]
  },
  {
   "cell_type": "code",
   "execution_count": 6,
   "metadata": {},
   "outputs": [],
   "source": [
    "numerics = ['int16', 'int32', 'int64', 'float16', 'float32', 'float64']\n",
    "\n",
    "num_df = train_df.select_dtypes(numerics)\n",
    "cat_df = train_df.select_dtypes(exclude=numerics)\n",
    "\n",
    "total_cols = len(train_df[3:].columns)"
   ]
  },
  {
   "cell_type": "code",
   "execution_count": 7,
   "metadata": {},
   "outputs": [
    {
     "data": {
      "text/plain": [
       "(72983, 19)"
      ]
     },
     "execution_count": 7,
     "metadata": {},
     "output_type": "execute_result"
    }
   ],
   "source": [
    "num_df.shape"
   ]
  },
  {
   "cell_type": "code",
   "execution_count": 8,
   "metadata": {},
   "outputs": [
    {
     "data": {
      "text/plain": [
       "15"
      ]
     },
     "execution_count": 8,
     "metadata": {},
     "output_type": "execute_result"
    }
   ],
   "source": [
    "len(cat_df.columns)"
   ]
  },
  {
   "cell_type": "code",
   "execution_count": 9,
   "metadata": {},
   "outputs": [],
   "source": [
    "## initial clean up for dataframe, drop entries wiht more than 70% of features are NaN's\n",
    "train_df.dropna(axis=0, thresh=np.floor(0.7*total_cols), inplace=True)\n",
    "test_df.dropna(axis=0, thresh=np.floor(0.7*total_cols), inplace=True)"
   ]
  },
  {
   "cell_type": "code",
   "execution_count": 10,
   "metadata": {},
   "outputs": [
    {
     "name": "stdout",
     "output_type": "stream",
     "text": [
      "(72983, 34)\n",
      "(48707, 33)\n"
     ]
    }
   ],
   "source": [
    "print(train_df.shape)\n",
    "print(test_df.shape)"
   ]
  },
  {
   "cell_type": "code",
   "execution_count": 11,
   "metadata": {},
   "outputs": [
    {
     "data": {
      "text/html": [
       "<div>\n",
       "<style scoped>\n",
       "    .dataframe tbody tr th:only-of-type {\n",
       "        vertical-align: middle;\n",
       "    }\n",
       "\n",
       "    .dataframe tbody tr th {\n",
       "        vertical-align: top;\n",
       "    }\n",
       "\n",
       "    .dataframe thead th {\n",
       "        text-align: right;\n",
       "    }\n",
       "</style>\n",
       "<table border=\"1\" class=\"dataframe\">\n",
       "  <thead>\n",
       "    <tr style=\"text-align: right;\">\n",
       "      <th></th>\n",
       "      <th>RefId</th>\n",
       "      <th>IsBadBuy</th>\n",
       "      <th>PurchDate</th>\n",
       "      <th>Auction</th>\n",
       "      <th>VehYear</th>\n",
       "      <th>VehicleAge</th>\n",
       "      <th>Make</th>\n",
       "      <th>Model</th>\n",
       "      <th>Trim</th>\n",
       "      <th>SubModel</th>\n",
       "      <th>...</th>\n",
       "      <th>MMRCurrentRetailAveragePrice</th>\n",
       "      <th>MMRCurrentRetailCleanPrice</th>\n",
       "      <th>PRIMEUNIT</th>\n",
       "      <th>AUCGUART</th>\n",
       "      <th>BYRNO</th>\n",
       "      <th>VNZIP1</th>\n",
       "      <th>VNST</th>\n",
       "      <th>VehBCost</th>\n",
       "      <th>IsOnlineSale</th>\n",
       "      <th>WarrantyCost</th>\n",
       "    </tr>\n",
       "  </thead>\n",
       "  <tbody>\n",
       "    <tr>\n",
       "      <th>0</th>\n",
       "      <td>1</td>\n",
       "      <td>0</td>\n",
       "      <td>12/7/2009</td>\n",
       "      <td>ADESA</td>\n",
       "      <td>2006</td>\n",
       "      <td>3</td>\n",
       "      <td>MAZDA</td>\n",
       "      <td>MAZDA3</td>\n",
       "      <td>i</td>\n",
       "      <td>4D SEDAN I</td>\n",
       "      <td>...</td>\n",
       "      <td>11597.0</td>\n",
       "      <td>12409.0</td>\n",
       "      <td>NaN</td>\n",
       "      <td>NaN</td>\n",
       "      <td>21973</td>\n",
       "      <td>33619</td>\n",
       "      <td>FL</td>\n",
       "      <td>7100.0</td>\n",
       "      <td>0</td>\n",
       "      <td>1113</td>\n",
       "    </tr>\n",
       "    <tr>\n",
       "      <th>1</th>\n",
       "      <td>2</td>\n",
       "      <td>0</td>\n",
       "      <td>12/7/2009</td>\n",
       "      <td>ADESA</td>\n",
       "      <td>2004</td>\n",
       "      <td>5</td>\n",
       "      <td>DODGE</td>\n",
       "      <td>1500 RAM PICKUP 2WD</td>\n",
       "      <td>ST</td>\n",
       "      <td>QUAD CAB 4.7L SLT</td>\n",
       "      <td>...</td>\n",
       "      <td>11374.0</td>\n",
       "      <td>12791.0</td>\n",
       "      <td>NaN</td>\n",
       "      <td>NaN</td>\n",
       "      <td>19638</td>\n",
       "      <td>33619</td>\n",
       "      <td>FL</td>\n",
       "      <td>7600.0</td>\n",
       "      <td>0</td>\n",
       "      <td>1053</td>\n",
       "    </tr>\n",
       "    <tr>\n",
       "      <th>2</th>\n",
       "      <td>3</td>\n",
       "      <td>0</td>\n",
       "      <td>12/7/2009</td>\n",
       "      <td>ADESA</td>\n",
       "      <td>2005</td>\n",
       "      <td>4</td>\n",
       "      <td>DODGE</td>\n",
       "      <td>STRATUS V6</td>\n",
       "      <td>SXT</td>\n",
       "      <td>4D SEDAN SXT FFV</td>\n",
       "      <td>...</td>\n",
       "      <td>7146.0</td>\n",
       "      <td>8702.0</td>\n",
       "      <td>NaN</td>\n",
       "      <td>NaN</td>\n",
       "      <td>19638</td>\n",
       "      <td>33619</td>\n",
       "      <td>FL</td>\n",
       "      <td>4900.0</td>\n",
       "      <td>0</td>\n",
       "      <td>1389</td>\n",
       "    </tr>\n",
       "    <tr>\n",
       "      <th>3</th>\n",
       "      <td>4</td>\n",
       "      <td>0</td>\n",
       "      <td>12/7/2009</td>\n",
       "      <td>ADESA</td>\n",
       "      <td>2004</td>\n",
       "      <td>5</td>\n",
       "      <td>DODGE</td>\n",
       "      <td>NEON</td>\n",
       "      <td>SXT</td>\n",
       "      <td>4D SEDAN</td>\n",
       "      <td>...</td>\n",
       "      <td>4375.0</td>\n",
       "      <td>5518.0</td>\n",
       "      <td>NaN</td>\n",
       "      <td>NaN</td>\n",
       "      <td>19638</td>\n",
       "      <td>33619</td>\n",
       "      <td>FL</td>\n",
       "      <td>4100.0</td>\n",
       "      <td>0</td>\n",
       "      <td>630</td>\n",
       "    </tr>\n",
       "    <tr>\n",
       "      <th>4</th>\n",
       "      <td>5</td>\n",
       "      <td>0</td>\n",
       "      <td>12/7/2009</td>\n",
       "      <td>ADESA</td>\n",
       "      <td>2005</td>\n",
       "      <td>4</td>\n",
       "      <td>FORD</td>\n",
       "      <td>FOCUS</td>\n",
       "      <td>ZX3</td>\n",
       "      <td>2D COUPE ZX3</td>\n",
       "      <td>...</td>\n",
       "      <td>6739.0</td>\n",
       "      <td>7911.0</td>\n",
       "      <td>NaN</td>\n",
       "      <td>NaN</td>\n",
       "      <td>19638</td>\n",
       "      <td>33619</td>\n",
       "      <td>FL</td>\n",
       "      <td>4000.0</td>\n",
       "      <td>0</td>\n",
       "      <td>1020</td>\n",
       "    </tr>\n",
       "  </tbody>\n",
       "</table>\n",
       "<p>5 rows × 34 columns</p>\n",
       "</div>"
      ],
      "text/plain": [
       "   RefId  IsBadBuy  PurchDate Auction  VehYear  VehicleAge   Make  \\\n",
       "0      1         0  12/7/2009   ADESA     2006           3  MAZDA   \n",
       "1      2         0  12/7/2009   ADESA     2004           5  DODGE   \n",
       "2      3         0  12/7/2009   ADESA     2005           4  DODGE   \n",
       "3      4         0  12/7/2009   ADESA     2004           5  DODGE   \n",
       "4      5         0  12/7/2009   ADESA     2005           4   FORD   \n",
       "\n",
       "                 Model Trim           SubModel      ...       \\\n",
       "0               MAZDA3    i         4D SEDAN I      ...        \n",
       "1  1500 RAM PICKUP 2WD   ST  QUAD CAB 4.7L SLT      ...        \n",
       "2           STRATUS V6  SXT   4D SEDAN SXT FFV      ...        \n",
       "3                 NEON  SXT           4D SEDAN      ...        \n",
       "4                FOCUS  ZX3       2D COUPE ZX3      ...        \n",
       "\n",
       "  MMRCurrentRetailAveragePrice MMRCurrentRetailCleanPrice  PRIMEUNIT AUCGUART  \\\n",
       "0                      11597.0                    12409.0        NaN      NaN   \n",
       "1                      11374.0                    12791.0        NaN      NaN   \n",
       "2                       7146.0                     8702.0        NaN      NaN   \n",
       "3                       4375.0                     5518.0        NaN      NaN   \n",
       "4                       6739.0                     7911.0        NaN      NaN   \n",
       "\n",
       "   BYRNO VNZIP1 VNST VehBCost  IsOnlineSale  WarrantyCost  \n",
       "0  21973  33619   FL   7100.0             0          1113  \n",
       "1  19638  33619   FL   7600.0             0          1053  \n",
       "2  19638  33619   FL   4900.0             0          1389  \n",
       "3  19638  33619   FL   4100.0             0           630  \n",
       "4  19638  33619   FL   4000.0             0          1020  \n",
       "\n",
       "[5 rows x 34 columns]"
      ]
     },
     "execution_count": 11,
     "metadata": {},
     "output_type": "execute_result"
    }
   ],
   "source": [
    "train_df.head()"
   ]
  },
  {
   "cell_type": "markdown",
   "metadata": {
    "heading_collapsed": true
   },
   "source": [
    "#### Descriptive Statistics"
   ]
  },
  {
   "cell_type": "code",
   "execution_count": 12,
   "metadata": {
    "hidden": true
   },
   "outputs": [
    {
     "data": {
      "text/html": [
       "<div>\n",
       "<style scoped>\n",
       "    .dataframe tbody tr th:only-of-type {\n",
       "        vertical-align: middle;\n",
       "    }\n",
       "\n",
       "    .dataframe tbody tr th {\n",
       "        vertical-align: top;\n",
       "    }\n",
       "\n",
       "    .dataframe thead th {\n",
       "        text-align: right;\n",
       "    }\n",
       "</style>\n",
       "<table border=\"1\" class=\"dataframe\">\n",
       "  <thead>\n",
       "    <tr style=\"text-align: right;\">\n",
       "      <th></th>\n",
       "      <th>25%</th>\n",
       "      <th>50%</th>\n",
       "      <th>75%</th>\n",
       "      <th>distinct</th>\n",
       "      <th>max</th>\n",
       "      <th>mean</th>\n",
       "      <th>min</th>\n",
       "      <th>missing</th>\n",
       "      <th>std</th>\n",
       "    </tr>\n",
       "  </thead>\n",
       "  <tbody>\n",
       "    <tr>\n",
       "      <th>RefId</th>\n",
       "      <td>18257.5</td>\n",
       "      <td>36514.0</td>\n",
       "      <td>54764.5</td>\n",
       "      <td>72983.0</td>\n",
       "      <td>73014.0</td>\n",
       "      <td>36511.428497</td>\n",
       "      <td>1.0</td>\n",
       "      <td>0.0</td>\n",
       "      <td>21077.241302</td>\n",
       "    </tr>\n",
       "    <tr>\n",
       "      <th>IsBadBuy</th>\n",
       "      <td>0.0</td>\n",
       "      <td>0.0</td>\n",
       "      <td>0.0</td>\n",
       "      <td>2.0</td>\n",
       "      <td>1.0</td>\n",
       "      <td>0.122988</td>\n",
       "      <td>0.0</td>\n",
       "      <td>0.0</td>\n",
       "      <td>0.328425</td>\n",
       "    </tr>\n",
       "    <tr>\n",
       "      <th>VehYear</th>\n",
       "      <td>2004.0</td>\n",
       "      <td>2005.0</td>\n",
       "      <td>2007.0</td>\n",
       "      <td>10.0</td>\n",
       "      <td>2010.0</td>\n",
       "      <td>2005.343052</td>\n",
       "      <td>2001.0</td>\n",
       "      <td>0.0</td>\n",
       "      <td>1.731252</td>\n",
       "    </tr>\n",
       "    <tr>\n",
       "      <th>VehicleAge</th>\n",
       "      <td>3.0</td>\n",
       "      <td>4.0</td>\n",
       "      <td>5.0</td>\n",
       "      <td>10.0</td>\n",
       "      <td>9.0</td>\n",
       "      <td>4.176644</td>\n",
       "      <td>0.0</td>\n",
       "      <td>0.0</td>\n",
       "      <td>1.712210</td>\n",
       "    </tr>\n",
       "    <tr>\n",
       "      <th>WheelTypeID</th>\n",
       "      <td>1.0</td>\n",
       "      <td>1.0</td>\n",
       "      <td>2.0</td>\n",
       "      <td>4.0</td>\n",
       "      <td>3.0</td>\n",
       "      <td>1.494299</td>\n",
       "      <td>0.0</td>\n",
       "      <td>3169.0</td>\n",
       "      <td>0.521290</td>\n",
       "    </tr>\n",
       "    <tr>\n",
       "      <th>VehOdo</th>\n",
       "      <td>61837.0</td>\n",
       "      <td>73361.0</td>\n",
       "      <td>82436.0</td>\n",
       "      <td>39947.0</td>\n",
       "      <td>115717.0</td>\n",
       "      <td>71499.995917</td>\n",
       "      <td>4825.0</td>\n",
       "      <td>0.0</td>\n",
       "      <td>14578.913128</td>\n",
       "    </tr>\n",
       "    <tr>\n",
       "      <th>MMRAcquisitionAuctionAveragePrice</th>\n",
       "      <td>4273.0</td>\n",
       "      <td>6097.0</td>\n",
       "      <td>7765.0</td>\n",
       "      <td>10342.0</td>\n",
       "      <td>35722.0</td>\n",
       "      <td>6128.909217</td>\n",
       "      <td>0.0</td>\n",
       "      <td>18.0</td>\n",
       "      <td>2461.992768</td>\n",
       "    </tr>\n",
       "    <tr>\n",
       "      <th>MMRAcquisitionAuctionCleanPrice</th>\n",
       "      <td>5406.0</td>\n",
       "      <td>7303.0</td>\n",
       "      <td>9021.0</td>\n",
       "      <td>11379.0</td>\n",
       "      <td>36859.0</td>\n",
       "      <td>7373.636031</td>\n",
       "      <td>0.0</td>\n",
       "      <td>18.0</td>\n",
       "      <td>2722.491986</td>\n",
       "    </tr>\n",
       "    <tr>\n",
       "      <th>MMRAcquisitionRetailAveragePrice</th>\n",
       "      <td>6280.0</td>\n",
       "      <td>8444.0</td>\n",
       "      <td>10651.0</td>\n",
       "      <td>12725.0</td>\n",
       "      <td>39080.0</td>\n",
       "      <td>8497.034332</td>\n",
       "      <td>0.0</td>\n",
       "      <td>18.0</td>\n",
       "      <td>3156.285284</td>\n",
       "    </tr>\n",
       "    <tr>\n",
       "      <th>MMRAcquisitonRetailCleanPrice</th>\n",
       "      <td>7493.0</td>\n",
       "      <td>9789.0</td>\n",
       "      <td>12088.0</td>\n",
       "      <td>13456.0</td>\n",
       "      <td>41482.0</td>\n",
       "      <td>9850.928240</td>\n",
       "      <td>0.0</td>\n",
       "      <td>18.0</td>\n",
       "      <td>3385.789541</td>\n",
       "    </tr>\n",
       "    <tr>\n",
       "      <th>MMRCurrentAuctionAveragePrice</th>\n",
       "      <td>4275.0</td>\n",
       "      <td>6062.0</td>\n",
       "      <td>7736.0</td>\n",
       "      <td>10315.0</td>\n",
       "      <td>35722.0</td>\n",
       "      <td>6132.081287</td>\n",
       "      <td>0.0</td>\n",
       "      <td>315.0</td>\n",
       "      <td>2434.567723</td>\n",
       "    </tr>\n",
       "    <tr>\n",
       "      <th>MMRCurrentAuctionCleanPrice</th>\n",
       "      <td>5414.0</td>\n",
       "      <td>7313.0</td>\n",
       "      <td>9013.0</td>\n",
       "      <td>11265.0</td>\n",
       "      <td>36859.0</td>\n",
       "      <td>7390.681827</td>\n",
       "      <td>0.0</td>\n",
       "      <td>315.0</td>\n",
       "      <td>2686.248852</td>\n",
       "    </tr>\n",
       "    <tr>\n",
       "      <th>MMRCurrentRetailAveragePrice</th>\n",
       "      <td>6536.0</td>\n",
       "      <td>8729.0</td>\n",
       "      <td>10911.0</td>\n",
       "      <td>12493.0</td>\n",
       "      <td>39080.0</td>\n",
       "      <td>8775.723331</td>\n",
       "      <td>0.0</td>\n",
       "      <td>315.0</td>\n",
       "      <td>3090.702941</td>\n",
       "    </tr>\n",
       "    <tr>\n",
       "      <th>MMRCurrentRetailCleanPrice</th>\n",
       "      <td>7784.0</td>\n",
       "      <td>10103.0</td>\n",
       "      <td>12309.0</td>\n",
       "      <td>13192.0</td>\n",
       "      <td>41062.0</td>\n",
       "      <td>10145.385314</td>\n",
       "      <td>0.0</td>\n",
       "      <td>315.0</td>\n",
       "      <td>3310.254351</td>\n",
       "    </tr>\n",
       "    <tr>\n",
       "      <th>BYRNO</th>\n",
       "      <td>17212.0</td>\n",
       "      <td>19662.0</td>\n",
       "      <td>22808.0</td>\n",
       "      <td>74.0</td>\n",
       "      <td>99761.0</td>\n",
       "      <td>26345.842155</td>\n",
       "      <td>835.0</td>\n",
       "      <td>0.0</td>\n",
       "      <td>25717.351219</td>\n",
       "    </tr>\n",
       "    <tr>\n",
       "      <th>VNZIP1</th>\n",
       "      <td>32124.0</td>\n",
       "      <td>73108.0</td>\n",
       "      <td>80022.0</td>\n",
       "      <td>153.0</td>\n",
       "      <td>99224.0</td>\n",
       "      <td>58043.059945</td>\n",
       "      <td>2764.0</td>\n",
       "      <td>0.0</td>\n",
       "      <td>26151.640415</td>\n",
       "    </tr>\n",
       "    <tr>\n",
       "      <th>VehBCost</th>\n",
       "      <td>5435.0</td>\n",
       "      <td>6700.0</td>\n",
       "      <td>7900.0</td>\n",
       "      <td>2072.0</td>\n",
       "      <td>45469.0</td>\n",
       "      <td>6730.934326</td>\n",
       "      <td>1.0</td>\n",
       "      <td>0.0</td>\n",
       "      <td>1767.846435</td>\n",
       "    </tr>\n",
       "    <tr>\n",
       "      <th>IsOnlineSale</th>\n",
       "      <td>0.0</td>\n",
       "      <td>0.0</td>\n",
       "      <td>0.0</td>\n",
       "      <td>2.0</td>\n",
       "      <td>1.0</td>\n",
       "      <td>0.025280</td>\n",
       "      <td>0.0</td>\n",
       "      <td>0.0</td>\n",
       "      <td>0.156975</td>\n",
       "    </tr>\n",
       "    <tr>\n",
       "      <th>WarrantyCost</th>\n",
       "      <td>837.0</td>\n",
       "      <td>1155.0</td>\n",
       "      <td>1623.0</td>\n",
       "      <td>281.0</td>\n",
       "      <td>7498.0</td>\n",
       "      <td>1276.580985</td>\n",
       "      <td>462.0</td>\n",
       "      <td>0.0</td>\n",
       "      <td>598.846788</td>\n",
       "    </tr>\n",
       "    <tr>\n",
       "      <th>PurchDate</th>\n",
       "      <td>NaN</td>\n",
       "      <td>NaN</td>\n",
       "      <td>NaN</td>\n",
       "      <td>517.0</td>\n",
       "      <td>NaN</td>\n",
       "      <td>NaN</td>\n",
       "      <td>NaN</td>\n",
       "      <td>0.0</td>\n",
       "      <td>NaN</td>\n",
       "    </tr>\n",
       "    <tr>\n",
       "      <th>Auction</th>\n",
       "      <td>NaN</td>\n",
       "      <td>NaN</td>\n",
       "      <td>NaN</td>\n",
       "      <td>3.0</td>\n",
       "      <td>NaN</td>\n",
       "      <td>NaN</td>\n",
       "      <td>NaN</td>\n",
       "      <td>0.0</td>\n",
       "      <td>NaN</td>\n",
       "    </tr>\n",
       "    <tr>\n",
       "      <th>Make</th>\n",
       "      <td>NaN</td>\n",
       "      <td>NaN</td>\n",
       "      <td>NaN</td>\n",
       "      <td>33.0</td>\n",
       "      <td>NaN</td>\n",
       "      <td>NaN</td>\n",
       "      <td>NaN</td>\n",
       "      <td>0.0</td>\n",
       "      <td>NaN</td>\n",
       "    </tr>\n",
       "    <tr>\n",
       "      <th>Model</th>\n",
       "      <td>NaN</td>\n",
       "      <td>NaN</td>\n",
       "      <td>NaN</td>\n",
       "      <td>1063.0</td>\n",
       "      <td>NaN</td>\n",
       "      <td>NaN</td>\n",
       "      <td>NaN</td>\n",
       "      <td>0.0</td>\n",
       "      <td>NaN</td>\n",
       "    </tr>\n",
       "    <tr>\n",
       "      <th>Trim</th>\n",
       "      <td>NaN</td>\n",
       "      <td>NaN</td>\n",
       "      <td>NaN</td>\n",
       "      <td>134.0</td>\n",
       "      <td>NaN</td>\n",
       "      <td>NaN</td>\n",
       "      <td>NaN</td>\n",
       "      <td>2360.0</td>\n",
       "      <td>NaN</td>\n",
       "    </tr>\n",
       "    <tr>\n",
       "      <th>SubModel</th>\n",
       "      <td>NaN</td>\n",
       "      <td>NaN</td>\n",
       "      <td>NaN</td>\n",
       "      <td>863.0</td>\n",
       "      <td>NaN</td>\n",
       "      <td>NaN</td>\n",
       "      <td>NaN</td>\n",
       "      <td>8.0</td>\n",
       "      <td>NaN</td>\n",
       "    </tr>\n",
       "    <tr>\n",
       "      <th>Color</th>\n",
       "      <td>NaN</td>\n",
       "      <td>NaN</td>\n",
       "      <td>NaN</td>\n",
       "      <td>16.0</td>\n",
       "      <td>NaN</td>\n",
       "      <td>NaN</td>\n",
       "      <td>NaN</td>\n",
       "      <td>8.0</td>\n",
       "      <td>NaN</td>\n",
       "    </tr>\n",
       "    <tr>\n",
       "      <th>Transmission</th>\n",
       "      <td>NaN</td>\n",
       "      <td>NaN</td>\n",
       "      <td>NaN</td>\n",
       "      <td>3.0</td>\n",
       "      <td>NaN</td>\n",
       "      <td>NaN</td>\n",
       "      <td>NaN</td>\n",
       "      <td>9.0</td>\n",
       "      <td>NaN</td>\n",
       "    </tr>\n",
       "    <tr>\n",
       "      <th>WheelType</th>\n",
       "      <td>NaN</td>\n",
       "      <td>NaN</td>\n",
       "      <td>NaN</td>\n",
       "      <td>3.0</td>\n",
       "      <td>NaN</td>\n",
       "      <td>NaN</td>\n",
       "      <td>NaN</td>\n",
       "      <td>3174.0</td>\n",
       "      <td>NaN</td>\n",
       "    </tr>\n",
       "    <tr>\n",
       "      <th>Nationality</th>\n",
       "      <td>NaN</td>\n",
       "      <td>NaN</td>\n",
       "      <td>NaN</td>\n",
       "      <td>4.0</td>\n",
       "      <td>NaN</td>\n",
       "      <td>NaN</td>\n",
       "      <td>NaN</td>\n",
       "      <td>5.0</td>\n",
       "      <td>NaN</td>\n",
       "    </tr>\n",
       "    <tr>\n",
       "      <th>Size</th>\n",
       "      <td>NaN</td>\n",
       "      <td>NaN</td>\n",
       "      <td>NaN</td>\n",
       "      <td>12.0</td>\n",
       "      <td>NaN</td>\n",
       "      <td>NaN</td>\n",
       "      <td>NaN</td>\n",
       "      <td>5.0</td>\n",
       "      <td>NaN</td>\n",
       "    </tr>\n",
       "    <tr>\n",
       "      <th>TopThreeAmericanName</th>\n",
       "      <td>NaN</td>\n",
       "      <td>NaN</td>\n",
       "      <td>NaN</td>\n",
       "      <td>4.0</td>\n",
       "      <td>NaN</td>\n",
       "      <td>NaN</td>\n",
       "      <td>NaN</td>\n",
       "      <td>5.0</td>\n",
       "      <td>NaN</td>\n",
       "    </tr>\n",
       "    <tr>\n",
       "      <th>PRIMEUNIT</th>\n",
       "      <td>NaN</td>\n",
       "      <td>NaN</td>\n",
       "      <td>NaN</td>\n",
       "      <td>2.0</td>\n",
       "      <td>NaN</td>\n",
       "      <td>NaN</td>\n",
       "      <td>NaN</td>\n",
       "      <td>69564.0</td>\n",
       "      <td>NaN</td>\n",
       "    </tr>\n",
       "    <tr>\n",
       "      <th>AUCGUART</th>\n",
       "      <td>NaN</td>\n",
       "      <td>NaN</td>\n",
       "      <td>NaN</td>\n",
       "      <td>2.0</td>\n",
       "      <td>NaN</td>\n",
       "      <td>NaN</td>\n",
       "      <td>NaN</td>\n",
       "      <td>69564.0</td>\n",
       "      <td>NaN</td>\n",
       "    </tr>\n",
       "    <tr>\n",
       "      <th>VNST</th>\n",
       "      <td>NaN</td>\n",
       "      <td>NaN</td>\n",
       "      <td>NaN</td>\n",
       "      <td>37.0</td>\n",
       "      <td>NaN</td>\n",
       "      <td>NaN</td>\n",
       "      <td>NaN</td>\n",
       "      <td>0.0</td>\n",
       "      <td>NaN</td>\n",
       "    </tr>\n",
       "  </tbody>\n",
       "</table>\n",
       "</div>"
      ],
      "text/plain": [
       "                                       25%      50%      75%  distinct  \\\n",
       "RefId                              18257.5  36514.0  54764.5   72983.0   \n",
       "IsBadBuy                               0.0      0.0      0.0       2.0   \n",
       "VehYear                             2004.0   2005.0   2007.0      10.0   \n",
       "VehicleAge                             3.0      4.0      5.0      10.0   \n",
       "WheelTypeID                            1.0      1.0      2.0       4.0   \n",
       "VehOdo                             61837.0  73361.0  82436.0   39947.0   \n",
       "MMRAcquisitionAuctionAveragePrice   4273.0   6097.0   7765.0   10342.0   \n",
       "MMRAcquisitionAuctionCleanPrice     5406.0   7303.0   9021.0   11379.0   \n",
       "MMRAcquisitionRetailAveragePrice    6280.0   8444.0  10651.0   12725.0   \n",
       "MMRAcquisitonRetailCleanPrice       7493.0   9789.0  12088.0   13456.0   \n",
       "MMRCurrentAuctionAveragePrice       4275.0   6062.0   7736.0   10315.0   \n",
       "MMRCurrentAuctionCleanPrice         5414.0   7313.0   9013.0   11265.0   \n",
       "MMRCurrentRetailAveragePrice        6536.0   8729.0  10911.0   12493.0   \n",
       "MMRCurrentRetailCleanPrice          7784.0  10103.0  12309.0   13192.0   \n",
       "BYRNO                              17212.0  19662.0  22808.0      74.0   \n",
       "VNZIP1                             32124.0  73108.0  80022.0     153.0   \n",
       "VehBCost                            5435.0   6700.0   7900.0    2072.0   \n",
       "IsOnlineSale                           0.0      0.0      0.0       2.0   \n",
       "WarrantyCost                         837.0   1155.0   1623.0     281.0   \n",
       "PurchDate                              NaN      NaN      NaN     517.0   \n",
       "Auction                                NaN      NaN      NaN       3.0   \n",
       "Make                                   NaN      NaN      NaN      33.0   \n",
       "Model                                  NaN      NaN      NaN    1063.0   \n",
       "Trim                                   NaN      NaN      NaN     134.0   \n",
       "SubModel                               NaN      NaN      NaN     863.0   \n",
       "Color                                  NaN      NaN      NaN      16.0   \n",
       "Transmission                           NaN      NaN      NaN       3.0   \n",
       "WheelType                              NaN      NaN      NaN       3.0   \n",
       "Nationality                            NaN      NaN      NaN       4.0   \n",
       "Size                                   NaN      NaN      NaN      12.0   \n",
       "TopThreeAmericanName                   NaN      NaN      NaN       4.0   \n",
       "PRIMEUNIT                              NaN      NaN      NaN       2.0   \n",
       "AUCGUART                               NaN      NaN      NaN       2.0   \n",
       "VNST                                   NaN      NaN      NaN      37.0   \n",
       "\n",
       "                                        max          mean     min  missing  \\\n",
       "RefId                               73014.0  36511.428497     1.0      0.0   \n",
       "IsBadBuy                                1.0      0.122988     0.0      0.0   \n",
       "VehYear                              2010.0   2005.343052  2001.0      0.0   \n",
       "VehicleAge                              9.0      4.176644     0.0      0.0   \n",
       "WheelTypeID                             3.0      1.494299     0.0   3169.0   \n",
       "VehOdo                             115717.0  71499.995917  4825.0      0.0   \n",
       "MMRAcquisitionAuctionAveragePrice   35722.0   6128.909217     0.0     18.0   \n",
       "MMRAcquisitionAuctionCleanPrice     36859.0   7373.636031     0.0     18.0   \n",
       "MMRAcquisitionRetailAveragePrice    39080.0   8497.034332     0.0     18.0   \n",
       "MMRAcquisitonRetailCleanPrice       41482.0   9850.928240     0.0     18.0   \n",
       "MMRCurrentAuctionAveragePrice       35722.0   6132.081287     0.0    315.0   \n",
       "MMRCurrentAuctionCleanPrice         36859.0   7390.681827     0.0    315.0   \n",
       "MMRCurrentRetailAveragePrice        39080.0   8775.723331     0.0    315.0   \n",
       "MMRCurrentRetailCleanPrice          41062.0  10145.385314     0.0    315.0   \n",
       "BYRNO                               99761.0  26345.842155   835.0      0.0   \n",
       "VNZIP1                              99224.0  58043.059945  2764.0      0.0   \n",
       "VehBCost                            45469.0   6730.934326     1.0      0.0   \n",
       "IsOnlineSale                            1.0      0.025280     0.0      0.0   \n",
       "WarrantyCost                         7498.0   1276.580985   462.0      0.0   \n",
       "PurchDate                               NaN           NaN     NaN      0.0   \n",
       "Auction                                 NaN           NaN     NaN      0.0   \n",
       "Make                                    NaN           NaN     NaN      0.0   \n",
       "Model                                   NaN           NaN     NaN      0.0   \n",
       "Trim                                    NaN           NaN     NaN   2360.0   \n",
       "SubModel                                NaN           NaN     NaN      8.0   \n",
       "Color                                   NaN           NaN     NaN      8.0   \n",
       "Transmission                            NaN           NaN     NaN      9.0   \n",
       "WheelType                               NaN           NaN     NaN   3174.0   \n",
       "Nationality                             NaN           NaN     NaN      5.0   \n",
       "Size                                    NaN           NaN     NaN      5.0   \n",
       "TopThreeAmericanName                    NaN           NaN     NaN      5.0   \n",
       "PRIMEUNIT                               NaN           NaN     NaN  69564.0   \n",
       "AUCGUART                                NaN           NaN     NaN  69564.0   \n",
       "VNST                                    NaN           NaN     NaN      0.0   \n",
       "\n",
       "                                            std  \n",
       "RefId                              21077.241302  \n",
       "IsBadBuy                               0.328425  \n",
       "VehYear                                1.731252  \n",
       "VehicleAge                             1.712210  \n",
       "WheelTypeID                            0.521290  \n",
       "VehOdo                             14578.913128  \n",
       "MMRAcquisitionAuctionAveragePrice   2461.992768  \n",
       "MMRAcquisitionAuctionCleanPrice     2722.491986  \n",
       "MMRAcquisitionRetailAveragePrice    3156.285284  \n",
       "MMRAcquisitonRetailCleanPrice       3385.789541  \n",
       "MMRCurrentAuctionAveragePrice       2434.567723  \n",
       "MMRCurrentAuctionCleanPrice         2686.248852  \n",
       "MMRCurrentRetailAveragePrice        3090.702941  \n",
       "MMRCurrentRetailCleanPrice          3310.254351  \n",
       "BYRNO                              25717.351219  \n",
       "VNZIP1                             26151.640415  \n",
       "VehBCost                            1767.846435  \n",
       "IsOnlineSale                           0.156975  \n",
       "WarrantyCost                         598.846788  \n",
       "PurchDate                                   NaN  \n",
       "Auction                                     NaN  \n",
       "Make                                        NaN  \n",
       "Model                                       NaN  \n",
       "Trim                                        NaN  \n",
       "SubModel                                    NaN  \n",
       "Color                                       NaN  \n",
       "Transmission                                NaN  \n",
       "WheelType                                   NaN  \n",
       "Nationality                                 NaN  \n",
       "Size                                        NaN  \n",
       "TopThreeAmericanName                        NaN  \n",
       "PRIMEUNIT                                   NaN  \n",
       "AUCGUART                                    NaN  \n",
       "VNST                                        NaN  "
      ]
     },
     "execution_count": 12,
     "metadata": {},
     "output_type": "execute_result"
    }
   ],
   "source": [
    "train_description = helper.getStat(train_df)\n",
    "train_description"
   ]
  },
  {
   "cell_type": "markdown",
   "metadata": {},
   "source": [
    "#### Variable Covariace"
   ]
  },
  {
   "cell_type": "code",
   "execution_count": 13,
   "metadata": {},
   "outputs": [
    {
     "data": {
      "text/plain": [
       "<matplotlib.axes._subplots.AxesSubplot at 0x1a0bee30b8>"
      ]
     },
     "execution_count": 13,
     "metadata": {},
     "output_type": "execute_result"
    },
    {
     "data": {
      "image/png": "[encoded data removed]",
      "text/plain": [
       "<matplotlib.figure.Figure at 0x1a0bed1e48>"
      ]
     },
     "metadata": {},
     "output_type": "display_data"
    }
   ],
   "source": [
    "corr = train_df.drop(['RefId','IsBadBuy'],1).corr()\n",
    "plt.figure(figsize = (12,10))\n",
    "sb.heatmap(corr, cmap = sb.color_palette(\"coolwarm\", 300))"
   ]
  },
  {
   "cell_type": "code",
   "execution_count": 14,
   "metadata": {},
   "outputs": [
    {
     "data": {
      "text/plain": [
       "<matplotlib.axes._subplots.AxesSubplot at 0x1a0c8bb3c8>"
      ]
     },
     "execution_count": 14,
     "metadata": {},
     "output_type": "execute_result"
    },
    {
     "data": {
      "image/png": "[encoded data removed]",
      "text/plain": [
       "<matplotlib.figure.Figure at 0x1a0c8c72b0>"
      ]
     },
     "metadata": {},
     "output_type": "display_data"
    }
   ],
   "source": [
    "corr = train_df.drop(['RefId','IsBadBuy'],1).corr()\n",
    "plt.figure(figsize = (12,10))\n",
    "sb.heatmap(abs(corr), cmap = sb.light_palette(\"purple\", 300))"
   ]
  },
  {
   "cell_type": "markdown",
   "metadata": {},
   "source": [
    "#### Feature selection & data processing\n",
    "\n",
    "1) Drop the RefID and BYRNO (not important features)\n",
    "\n",
    "2) Drop PRIMEUNIT and AUCGUART, as they have a lot of missing values (69564 out of 72983)\n",
    "\n",
    "3) Drop SubModel, too many categories\n",
    "\n",
    "4) WheelTypeID is dropped as it gives identical information as WheelType does.\n",
    "\n",
    "5) Drop VNST as VNZIP has already enclosed finer region information\n",
    "\n",
    "6) Change PurchDate into a set of date columns, including dayofweek, month, quarter, year. The PurchDate will be dropped\n",
    "\n",
    "7) Categorical data process, indicates the constraint on each of the features and later to change them into one-hot encoding.\n",
    "    * WheelType, take all\n",
    "    * Auction: all\n",
    "    * VNZIP1: take top 50 + OTHER\n",
    "    * Color: take top 5 + OTHER\n",
    "    * Make : take top 20 + OTHER\n",
    "    * Model: top 20 + OTHER\n",
    "    * Trim: take top 10 + OTHER\n",
    "    * Nationality: take all\n",
    "    * Size: take all\n",
    "    * TopThreeAmericanName: all\n",
    "    * IsOnlineSale: all\n",
    " 8) Scale the numerical data"
   ]
  },
  {
   "cell_type": "code",
   "execution_count": 15,
   "metadata": {},
   "outputs": [],
   "source": [
    "train_df = pd.read_csv('data/training.csv')\n",
    "test_df = pd.read_csv('data/test.csv')"
   ]
  },
  {
   "cell_type": "code",
   "execution_count": 16,
   "metadata": {},
   "outputs": [],
   "source": [
    "helper.preprocess2(train_df)"
   ]
  },
  {
   "cell_type": "code",
   "execution_count": 17,
   "metadata": {},
   "outputs": [
    {
     "data": {
      "text/html": [
       "<div>\n",
       "<style scoped>\n",
       "    .dataframe tbody tr th:only-of-type {\n",
       "        vertical-align: middle;\n",
       "    }\n",
       "\n",
       "    .dataframe tbody tr th {\n",
       "        vertical-align: top;\n",
       "    }\n",
       "\n",
       "    .dataframe thead th {\n",
       "        text-align: right;\n",
       "    }\n",
       "</style>\n",
       "<table border=\"1\" class=\"dataframe\">\n",
       "  <thead>\n",
       "    <tr style=\"text-align: right;\">\n",
       "      <th></th>\n",
       "      <th>count</th>\n",
       "      <th>mean</th>\n",
       "      <th>std</th>\n",
       "      <th>min</th>\n",
       "      <th>25%</th>\n",
       "      <th>50%</th>\n",
       "      <th>75%</th>\n",
       "      <th>max</th>\n",
       "    </tr>\n",
       "  </thead>\n",
       "  <tbody>\n",
       "    <tr>\n",
       "      <th>IsBadBuy</th>\n",
       "      <td>72983.0</td>\n",
       "      <td>0.122988</td>\n",
       "      <td>0.328425</td>\n",
       "      <td>0.0</td>\n",
       "      <td>0.0</td>\n",
       "      <td>0.0</td>\n",
       "      <td>0.0</td>\n",
       "      <td>1.0</td>\n",
       "    </tr>\n",
       "    <tr>\n",
       "      <th>VehOdo</th>\n",
       "      <td>72983.0</td>\n",
       "      <td>71499.995917</td>\n",
       "      <td>14578.913128</td>\n",
       "      <td>4825.0</td>\n",
       "      <td>61837.0</td>\n",
       "      <td>73361.0</td>\n",
       "      <td>82436.0</td>\n",
       "      <td>115717.0</td>\n",
       "    </tr>\n",
       "    <tr>\n",
       "      <th>MMRAcquisitionAuctionAveragePrice</th>\n",
       "      <td>72983.0</td>\n",
       "      <td>6128.901347</td>\n",
       "      <td>2461.689193</td>\n",
       "      <td>0.0</td>\n",
       "      <td>4273.0</td>\n",
       "      <td>6097.0</td>\n",
       "      <td>7765.0</td>\n",
       "      <td>35722.0</td>\n",
       "    </tr>\n",
       "    <tr>\n",
       "      <th>MMRAcquisitionAuctionCleanPrice</th>\n",
       "      <td>72983.0</td>\n",
       "      <td>7373.618610</td>\n",
       "      <td>2722.156458</td>\n",
       "      <td>0.0</td>\n",
       "      <td>5407.0</td>\n",
       "      <td>7303.0</td>\n",
       "      <td>9021.0</td>\n",
       "      <td>36859.0</td>\n",
       "    </tr>\n",
       "    <tr>\n",
       "      <th>MMRAcquisitionRetailAveragePrice</th>\n",
       "      <td>72983.0</td>\n",
       "      <td>8497.021252</td>\n",
       "      <td>3155.896142</td>\n",
       "      <td>0.0</td>\n",
       "      <td>6281.0</td>\n",
       "      <td>8444.0</td>\n",
       "      <td>10650.0</td>\n",
       "      <td>39080.0</td>\n",
       "    </tr>\n",
       "    <tr>\n",
       "      <th>MMRAcquisitonRetailCleanPrice</th>\n",
       "      <td>72983.0</td>\n",
       "      <td>9850.912966</td>\n",
       "      <td>3385.372126</td>\n",
       "      <td>0.0</td>\n",
       "      <td>7494.0</td>\n",
       "      <td>9789.0</td>\n",
       "      <td>12088.0</td>\n",
       "      <td>41482.0</td>\n",
       "    </tr>\n",
       "    <tr>\n",
       "      <th>MMRCurrentAuctionAveragePrice</th>\n",
       "      <td>72983.0</td>\n",
       "      <td>6131.778812</td>\n",
       "      <td>2429.312427</td>\n",
       "      <td>0.0</td>\n",
       "      <td>4285.0</td>\n",
       "      <td>6062.0</td>\n",
       "      <td>7732.0</td>\n",
       "      <td>35722.0</td>\n",
       "    </tr>\n",
       "    <tr>\n",
       "      <th>MMRCurrentAuctionCleanPrice</th>\n",
       "      <td>72983.0</td>\n",
       "      <td>7390.346546</td>\n",
       "      <td>2680.450317</td>\n",
       "      <td>0.0</td>\n",
       "      <td>5425.0</td>\n",
       "      <td>7313.0</td>\n",
       "      <td>9006.0</td>\n",
       "      <td>36859.0</td>\n",
       "    </tr>\n",
       "    <tr>\n",
       "      <th>MMRCurrentRetailAveragePrice</th>\n",
       "      <td>72983.0</td>\n",
       "      <td>8775.521669</td>\n",
       "      <td>3084.027307</td>\n",
       "      <td>0.0</td>\n",
       "      <td>6550.0</td>\n",
       "      <td>8729.0</td>\n",
       "      <td>10897.0</td>\n",
       "      <td>39080.0</td>\n",
       "    </tr>\n",
       "    <tr>\n",
       "      <th>MMRCurrentRetailCleanPrice</th>\n",
       "      <td>72983.0</td>\n",
       "      <td>10145.202376</td>\n",
       "      <td>3303.104046</td>\n",
       "      <td>0.0</td>\n",
       "      <td>7796.0</td>\n",
       "      <td>10103.0</td>\n",
       "      <td>12308.0</td>\n",
       "      <td>41062.0</td>\n",
       "    </tr>\n",
       "    <tr>\n",
       "      <th>VehBCost</th>\n",
       "      <td>72983.0</td>\n",
       "      <td>6730.934326</td>\n",
       "      <td>1767.846435</td>\n",
       "      <td>1.0</td>\n",
       "      <td>5435.0</td>\n",
       "      <td>6700.0</td>\n",
       "      <td>7900.0</td>\n",
       "      <td>45469.0</td>\n",
       "    </tr>\n",
       "    <tr>\n",
       "      <th>WarrantyCost</th>\n",
       "      <td>72983.0</td>\n",
       "      <td>1276.580985</td>\n",
       "      <td>598.846788</td>\n",
       "      <td>462.0</td>\n",
       "      <td>837.0</td>\n",
       "      <td>1155.0</td>\n",
       "      <td>1623.0</td>\n",
       "      <td>7498.0</td>\n",
       "    </tr>\n",
       "  </tbody>\n",
       "</table>\n",
       "</div>"
      ],
      "text/plain": [
       "                                     count          mean           std  \\\n",
       "IsBadBuy                           72983.0      0.122988      0.328425   \n",
       "VehOdo                             72983.0  71499.995917  14578.913128   \n",
       "MMRAcquisitionAuctionAveragePrice  72983.0   6128.901347   2461.689193   \n",
       "MMRAcquisitionAuctionCleanPrice    72983.0   7373.618610   2722.156458   \n",
       "MMRAcquisitionRetailAveragePrice   72983.0   8497.021252   3155.896142   \n",
       "MMRAcquisitonRetailCleanPrice      72983.0   9850.912966   3385.372126   \n",
       "MMRCurrentAuctionAveragePrice      72983.0   6131.778812   2429.312427   \n",
       "MMRCurrentAuctionCleanPrice        72983.0   7390.346546   2680.450317   \n",
       "MMRCurrentRetailAveragePrice       72983.0   8775.521669   3084.027307   \n",
       "MMRCurrentRetailCleanPrice         72983.0  10145.202376   3303.104046   \n",
       "VehBCost                           72983.0   6730.934326   1767.846435   \n",
       "WarrantyCost                       72983.0   1276.580985    598.846788   \n",
       "\n",
       "                                      min      25%      50%      75%       max  \n",
       "IsBadBuy                              0.0      0.0      0.0      0.0       1.0  \n",
       "VehOdo                             4825.0  61837.0  73361.0  82436.0  115717.0  \n",
       "MMRAcquisitionAuctionAveragePrice     0.0   4273.0   6097.0   7765.0   35722.0  \n",
       "MMRAcquisitionAuctionCleanPrice       0.0   5407.0   7303.0   9021.0   36859.0  \n",
       "MMRAcquisitionRetailAveragePrice      0.0   6281.0   8444.0  10650.0   39080.0  \n",
       "MMRAcquisitonRetailCleanPrice         0.0   7494.0   9789.0  12088.0   41482.0  \n",
       "MMRCurrentAuctionAveragePrice         0.0   4285.0   6062.0   7732.0   35722.0  \n",
       "MMRCurrentAuctionCleanPrice           0.0   5425.0   7313.0   9006.0   36859.0  \n",
       "MMRCurrentRetailAveragePrice          0.0   6550.0   8729.0  10897.0   39080.0  \n",
       "MMRCurrentRetailCleanPrice            0.0   7796.0  10103.0  12308.0   41062.0  \n",
       "VehBCost                              1.0   5435.0   6700.0   7900.0   45469.0  \n",
       "WarrantyCost                        462.0    837.0   1155.0   1623.0    7498.0  "
      ]
     },
     "execution_count": 17,
     "metadata": {},
     "output_type": "execute_result"
    }
   ],
   "source": [
    "train_df.describe().T"
   ]
  },
  {
   "cell_type": "code",
   "execution_count": 18,
   "metadata": {
    "scrolled": true
   },
   "outputs": [
    {
     "data": {
      "text/plain": [
       "(72983, 28)"
      ]
     },
     "execution_count": 18,
     "metadata": {},
     "output_type": "execute_result"
    }
   ],
   "source": [
    "train_df.shape"
   ]
  },
  {
   "cell_type": "code",
   "execution_count": 19,
   "metadata": {},
   "outputs": [
    {
     "data": {
      "text/plain": [
       "Index(['IsBadBuy', 'PurchDate', 'Auction', 'VehYear', 'Make', 'Trim', 'Color',\n",
       "       'Transmission', 'WheelType', 'VehOdo', 'Nationality', 'Size',\n",
       "       'TopThreeAmericanName', 'MMRAcquisitionAuctionAveragePrice',\n",
       "       'MMRAcquisitionAuctionCleanPrice', 'MMRAcquisitionRetailAveragePrice',\n",
       "       'MMRAcquisitonRetailCleanPrice', 'MMRCurrentAuctionAveragePrice',\n",
       "       'MMRCurrentAuctionCleanPrice', 'MMRCurrentRetailAveragePrice',\n",
       "       'MMRCurrentRetailCleanPrice', 'VNST', 'VehBCost', 'WarrantyCost',\n",
       "       'PurchYear', 'PurchMonth', 'PurchQuarter', 'PurchDayofweek'],\n",
       "      dtype='object')"
      ]
     },
     "execution_count": 19,
     "metadata": {},
     "output_type": "execute_result"
    }
   ],
   "source": [
    "train_df.columns"
   ]
  },
  {
   "cell_type": "code",
   "execution_count": 20,
   "metadata": {},
   "outputs": [],
   "source": [
    "helper.preprocess2(test_df, train=False)"
   ]
  },
  {
   "cell_type": "code",
   "execution_count": 21,
   "metadata": {},
   "outputs": [
    {
     "data": {
      "text/plain": [
       "TX    13596\n",
       "FL    10447\n",
       "CA     7095\n",
       "NC     7042\n",
       "AZ     6174\n",
       "CO     4998\n",
       "SC     4280\n",
       "OK     3594\n",
       "GA     2450\n",
       "TN     1764\n",
       "VA     1662\n",
       "MD     1158\n",
       "UT      875\n",
       "PA      847\n",
       "OH      795\n",
       "MO      758\n",
       "AL      690\n",
       "NV      562\n",
       "IA      499\n",
       "MS      493\n",
       "IN      486\n",
       "IL      458\n",
       "LA      349\n",
       "NJ      317\n",
       "WV      292\n",
       "NM      239\n",
       "KY      230\n",
       "OR      211\n",
       "ID      196\n",
       "WA      136\n",
       "NH       97\n",
       "AR       70\n",
       "MN       62\n",
       "NE       26\n",
       "MA       15\n",
       "MI       14\n",
       "NY        6\n",
       "Name: VNST, dtype: int64"
      ]
     },
     "execution_count": 21,
     "metadata": {},
     "output_type": "execute_result"
    }
   ],
   "source": [
    "train_df.VNST.value_counts()"
   ]
  },
  {
   "cell_type": "markdown",
   "metadata": {},
   "source": [
    "## Model"
   ]
  },
  {
   "cell_type": "code",
   "execution_count": 22,
   "metadata": {},
   "outputs": [],
   "source": [
    "SEED = 100"
   ]
  },
  {
   "cell_type": "code",
   "execution_count": 23,
   "metadata": {
    "code_folding": []
   },
   "outputs": [],
   "source": [
    "mapper = DataFrameMapper([\n",
    "    ('Auction', LabelBinarizer()),\n",
    "    ('VehYear', LabelBinarizer()),\n",
    "#     (['VehicleAge'], StandardScaler()),\n",
    "    ('Make',CountVectorizer(min_df=5000)),\n",
    "#     ('Model', LabelBinarizer()),\n",
    "    ('Trim', CountVectorizer(min_df=6500)),\n",
    "    ('Color', CountVectorizer(min_df=6000)),\n",
    "#     ('Transmission', LabelBinarizer()),\n",
    "    ('WheelType', CountVectorizer(min_df=6000)),\n",
    "    (['VehOdo'], StandardScaler()),\n",
    "    ('Nationality', CountVectorizer(min_df=6000)),\n",
    "    ('Size', TfidfVectorizer(min_df=5000)), # The only on use Tfidf originally\n",
    "    ('TopThreeAmericanName', CountVectorizer(min_df=6000)),\n",
    "    (['MMRAcquisitionAuctionAveragePrice'], StandardScaler()),\n",
    "#     (['MMRAcquisitionAuctionCleanPrice'], StandardScaler()),\n",
    "    (['MMRAcquisitionRetailAveragePrice'], StandardScaler()),\n",
    "#     (['MMRAcquisitonRetailCleanPrice'], StandardScaler()),\n",
    "    (['MMRCurrentAuctionAveragePrice'], StandardScaler()),\n",
    "#     (['MMRCurrentAuctionCleanPrice'], StandardScaler()),\n",
    "    (['MMRCurrentRetailAveragePrice'], StandardScaler()),\n",
    "#     (['MMRCurrentRetailCleanPrice'], StandardScaler()),\n",
    "    ('VNST', CountVectorizer(min_df=6000)),\n",
    "    (['VehBCost'], StandardScaler()),\n",
    "#     ('IsOnlineSale', LabelBinarizer()),\n",
    "    (['WarrantyCost'], StandardScaler()),\n",
    "    ('PurchYear', LabelBinarizer()),\n",
    "    ('PurchMonth', LabelBinarizer()),\n",
    "    ('PurchQuarter', LabelBinarizer()),\n",
    "    ('PurchDayofweek', LabelBinarizer())])"
   ]
  },
  {
   "cell_type": "code",
   "execution_count": 24,
   "metadata": {},
   "outputs": [
    {
     "data": {
      "text/plain": [
       "2010    37922\n",
       "2009    35061\n",
       "Name: PurchYear, dtype: int64"
      ]
     },
     "execution_count": 24,
     "metadata": {},
     "output_type": "execute_result"
    }
   ],
   "source": [
    "train_df.PurchYear.value_counts()"
   ]
  },
  {
   "cell_type": "code",
   "execution_count": 25,
   "metadata": {},
   "outputs": [],
   "source": [
    "X = mapper.fit_transform(train_df)\n",
    "y = train_df['IsBadBuy']"
   ]
  },
  {
   "cell_type": "code",
   "execution_count": 26,
   "metadata": {},
   "outputs": [],
   "source": [
    "X_test = mapper.transform(test_df)"
   ]
  },
  {
   "cell_type": "code",
   "execution_count": 27,
   "metadata": {},
   "outputs": [
    {
     "name": "stdout",
     "output_type": "stream",
     "text": [
      "(72983, 76)\n",
      "(48707, 76)\n"
     ]
    }
   ],
   "source": [
    "print(X.shape)\n",
    "print(X_test.shape)"
   ]
  },
  {
   "cell_type": "markdown",
   "metadata": {},
   "source": [
    "Has increase the number of features from 32 to 187"
   ]
  },
  {
   "cell_type": "code",
   "execution_count": 28,
   "metadata": {},
   "outputs": [],
   "source": [
    "## Split data into training and validation sets\n",
    "X_tr, X_val, y_tr, y_val = train_test_split(X, y, test_size=0.2, random_state=SEED)"
   ]
  },
  {
   "cell_type": "markdown",
   "metadata": {},
   "source": [
    "check if the split conserves the inbalance property"
   ]
  },
  {
   "cell_type": "code",
   "execution_count": 29,
   "metadata": {},
   "outputs": [
    {
     "name": "stdout",
     "output_type": "stream",
     "text": [
      "0    51166\n",
      "1     7220\n",
      "Name: IsBadBuy, dtype: int64\n",
      "0    12841\n",
      "1     1756\n",
      "Name: IsBadBuy, dtype: int64\n"
     ]
    }
   ],
   "source": [
    "print(y_tr.value_counts())\n",
    "print(y_val.value_counts())"
   ]
  },
  {
   "cell_type": "markdown",
   "metadata": {},
   "source": [
    "#### create a lgb classifier"
   ]
  },
  {
   "cell_type": "code",
   "execution_count": 30,
   "metadata": {},
   "outputs": [],
   "source": [
    "d_train = lgb.Dataset(X_tr, label= y_tr)\n",
    "d_valid = lgb.Dataset(X_val, label = y_val)"
   ]
  },
  {
   "cell_type": "code",
   "execution_count": 31,
   "metadata": {},
   "outputs": [],
   "source": [
    "clf = lgb.LGBMClassifier(random_state=SEED)"
   ]
  },
  {
   "cell_type": "code",
   "execution_count": 32,
   "metadata": {},
   "outputs": [],
   "source": [
    "param_grid = {\n",
    "    \"class_weight\": [None, 'balanced'],\n",
    "    \"num_leaves\":[30],\n",
    "    \"max_depth\": [5, 10],\n",
    "    \"n_estimators\": [30],\n",
    "    \"learning_rate\" : [0.1],\n",
    "    \"reg_lambda\": [0.1],\n",
    "    \"reg_alpha\":[0.1],\n",
    "    \"scoring\" :['f1']\n",
    "             }"
   ]
  },
  {
   "cell_type": "code",
   "execution_count": 33,
   "metadata": {},
   "outputs": [],
   "source": [
    "gbm = GridSearchCV(estimator=clf, param_grid=param_grid, scoring='f1')"
   ]
  },
  {
   "cell_type": "code",
   "execution_count": 34,
   "metadata": {},
   "outputs": [
    {
     "data": {
      "text/plain": [
       "GridSearchCV(cv=None, error_score='raise',\n",
       "       estimator=LGBMClassifier(boosting_type='gbdt', class_weight=None, colsample_bytree=1.0,\n",
       "        learning_rate=0.1, max_depth=-1, min_child_samples=20,\n",
       "        min_child_weight=0.001, min_split_gain=0.0, n_estimators=100,\n",
       "        n_jobs=-1, num_leaves=31, objective=None, random_state=100,\n",
       "        reg_alpha=0.0, reg_lambda=0.0, silent=True, subsample=1.0,\n",
       "        subsample_for_bin=200000, subsample_freq=1),\n",
       "       fit_params=None, iid=True, n_jobs=1,\n",
       "       param_grid={'class_weight': [None, 'balanced'], 'num_leaves': [30], 'max_depth': [5, 10], 'n_estimators': [30], 'learning_rate': [0.1], 'reg_lambda': [0.1], 'reg_alpha': [0.1], 'scoring': ['f1']},\n",
       "       pre_dispatch='2*n_jobs', refit=True, return_train_score='warn',\n",
       "       scoring='f1', verbose=0)"
      ]
     },
     "execution_count": 34,
     "metadata": {},
     "output_type": "execute_result"
    }
   ],
   "source": [
    "gbm.fit(d_train.data, d_train.label)"
   ]
  },
  {
   "cell_type": "code",
   "execution_count": 35,
   "metadata": {},
   "outputs": [
    {
     "data": {
      "text/plain": [
       "{'class_weight': 'balanced',\n",
       " 'learning_rate': 0.1,\n",
       " 'max_depth': 10,\n",
       " 'n_estimators': 30,\n",
       " 'num_leaves': 30,\n",
       " 'reg_alpha': 0.1,\n",
       " 'reg_lambda': 0.1,\n",
       " 'scoring': 'f1'}"
      ]
     },
     "execution_count": 35,
     "metadata": {},
     "output_type": "execute_result"
    }
   ],
   "source": [
    "gbm.best_params_"
   ]
  },
  {
   "cell_type": "code",
   "execution_count": 36,
   "metadata": {},
   "outputs": [
    {
     "data": {
      "text/plain": [
       "0.36605975043395433"
      ]
     },
     "execution_count": 36,
     "metadata": {},
     "output_type": "execute_result"
    }
   ],
   "source": [
    "gbm.best_score_"
   ]
  },
  {
   "cell_type": "code",
   "execution_count": 37,
   "metadata": {},
   "outputs": [
    {
     "data": {
      "text/plain": [
       "0.36384859096214772"
      ]
     },
     "execution_count": 37,
     "metadata": {},
     "output_type": "execute_result"
    }
   ],
   "source": [
    "skm.f1_score(d_valid.label, gbm.best_estimator_.predict(d_valid.data))"
   ]
  },
  {
   "cell_type": "markdown",
   "metadata": {},
   "source": [
    "#### Logistic Regression"
   ]
  },
  {
   "cell_type": "code",
   "execution_count": 38,
   "metadata": {},
   "outputs": [],
   "source": [
    "lg_param_grid = {\n",
    "    \"C\": [.05, 0.1, 1],\n",
    "    'class_weight':[None, 'balanced']\n",
    "}"
   ]
  },
  {
   "cell_type": "code",
   "execution_count": 39,
   "metadata": {},
   "outputs": [],
   "source": [
    "lg = LogisticRegression(random_state=SEED)"
   ]
  },
  {
   "cell_type": "code",
   "execution_count": 40,
   "metadata": {},
   "outputs": [],
   "source": [
    "lgs = GridSearchCV(estimator=lg, param_grid=lg_param_grid, scoring='f1')"
   ]
  },
  {
   "cell_type": "code",
   "execution_count": 41,
   "metadata": {},
   "outputs": [
    {
     "data": {
      "text/plain": [
       "GridSearchCV(cv=None, error_score='raise',\n",
       "       estimator=LogisticRegression(C=1.0, class_weight=None, dual=False, fit_intercept=True,\n",
       "          intercept_scaling=1, max_iter=100, multi_class='ovr', n_jobs=1,\n",
       "          penalty='l2', random_state=100, solver='liblinear', tol=0.0001,\n",
       "          verbose=0, warm_start=False),\n",
       "       fit_params=None, iid=True, n_jobs=1,\n",
       "       param_grid={'C': [0.05, 0.1, 1], 'class_weight': [None, 'balanced']},\n",
       "       pre_dispatch='2*n_jobs', refit=True, return_train_score='warn',\n",
       "       scoring='f1', verbose=0)"
      ]
     },
     "execution_count": 41,
     "metadata": {},
     "output_type": "execute_result"
    }
   ],
   "source": [
    "lgs.fit(d_train.data, d_train.label)"
   ]
  },
  {
   "cell_type": "code",
   "execution_count": 42,
   "metadata": {},
   "outputs": [
    {
     "data": {
      "text/plain": [
       "{'C': 0.1, 'class_weight': 'balanced'}"
      ]
     },
     "execution_count": 42,
     "metadata": {},
     "output_type": "execute_result"
    }
   ],
   "source": [
    "lgs.best_params_"
   ]
  },
  {
   "cell_type": "code",
   "execution_count": 43,
   "metadata": {},
   "outputs": [
    {
     "data": {
      "text/plain": [
       "0.37037037037037041"
      ]
     },
     "execution_count": 43,
     "metadata": {},
     "output_type": "execute_result"
    }
   ],
   "source": [
    "skm.f1_score(d_valid.label, lgs.best_estimator_.predict(d_valid.data))"
   ]
  },
  {
   "cell_type": "markdown",
   "metadata": {},
   "source": [
    "#### wrap two best estimators"
   ]
  },
  {
   "cell_type": "code",
   "execution_count": 44,
   "metadata": {},
   "outputs": [],
   "source": [
    "ests = {'gbm': gbm.best_estimator_, 'lg':lgs.best_estimator_}"
   ]
  },
  {
   "cell_type": "code",
   "execution_count": 45,
   "metadata": {},
   "outputs": [
    {
     "data": {
      "text/plain": [
       "0.12298754504473644"
      ]
     },
     "execution_count": 45,
     "metadata": {},
     "output_type": "execute_result"
    }
   ],
   "source": [
    "label_ratio = train_df['IsBadBuy'].value_counts()[1]/len(train_df['IsBadBuy'])\n",
    "label_ratio"
   ]
  },
  {
   "cell_type": "code",
   "execution_count": null,
   "metadata": {},
   "outputs": [],
   "source": []
  },
  {
   "cell_type": "markdown",
   "metadata": {},
   "source": [
    "#### Plot the Precision-Recall Curve"
   ]
  },
  {
   "cell_type": "code",
   "execution_count": 84,
   "metadata": {},
   "outputs": [],
   "source": [
    "from sklearn.metrics import precision_recall_curve, roc_curve, auc\n",
    "from sklearn.metrics import average_precision_score, roc_auc_score"
   ]
  },
  {
   "cell_type": "code",
   "execution_count": 89,
   "metadata": {
    "code_folding": []
   },
   "outputs": [],
   "source": [
    "def plot_PRC(y_true, y_pred, model):\n",
    "    precision, recall, thresholds = precision_recall_curve(y_true, y_pred)\n",
    "#     average_precision = average_precision_score(y_true, y_pred)\n",
    "#     plt.step(recall, precision,label = model+' (AP={0:0.2f})'.format(average_precision))\n",
    "    AUC = auc(y_true, y_pred, reorder = True)\n",
    "    plt.step(recall, precision,label = model+' (AUC={0:0.2f})'.format(AUC))\n",
    "    plt.plot([0,1], [label_ratio, label_ratio], 'k--')\n",
    "    plt.xlabel('Recall')\n",
    "    plt.ylabel('Precision')\n",
    "    plt.ylim([0.0, 1.05])\n",
    "    plt.xlim([0.0, 1.0])\n",
    "    plt.title('Precision Recall Curve')\n",
    "    plt.legend(loc=\"upper right\")\n",
    "\n",
    "def plot_ROC(y_true, y_pred, model):\n",
    "    fpr, tpr, thresholds = roc_curve(y_true, y_pred)\n",
    "    roc_auc= roc_auc_score(y_true, y_pred)\n",
    "    plt.plot(fpr, tpr, label = model+' (ROC_AUC={0:0.2f})'.format(roc_auc))\n",
    "    plt.scatter()\n",
    "    plt.plot([0,1],[0,1], 'k--')\n",
    "    plt.xlabel('fpr')\n",
    "    plt.ylabel('tpr')\n",
    "    plt.ylim([0.0, 1.05])\n",
    "    plt.xlim([0.0, 1.0])\n",
    "    plt.title('ROC')\n",
    "    plt.legend(loc=\"lower right\")"
   ]
  },
  {
   "cell_type": "code",
   "execution_count": 90,
   "metadata": {
    "code_folding": []
   },
   "outputs": [
    {
     "data": {
      "image/png": "[encoded data removed]",
      "text/plain": [
       "<matplotlib.figure.Figure at 0x1a123e2e10>"
      ]
     },
     "metadata": {},
     "output_type": "display_data"
    }
   ],
   "source": [
    "for c in ests:\n",
    "    plot_PRC(d_valid.label, ests[c].predict_proba(d_valid.data)[:,1], c)"
   ]
  },
  {
   "cell_type": "code",
   "execution_count": 49,
   "metadata": {},
   "outputs": [
    {
     "data": {
      "image/png": "[encoded data removed]",
      "text/plain": [
       "<matplotlib.figure.Figure at 0x1a0c9c8320>"
      ]
     },
     "metadata": {},
     "output_type": "display_data"
    }
   ],
   "source": [
    "for c in ests:\n",
    "    plot_ROC(d_valid.label, ests[c].predict_proba(d_valid.data)[:,1], c)"
   ]
  },
  {
   "cell_type": "markdown",
   "metadata": {},
   "source": [
    "#### Try bigram"
   ]
  },
  {
   "cell_type": "code",
   "execution_count": 73,
   "metadata": {},
   "outputs": [],
   "source": [
    "mapper2 = DataFrameMapper([\n",
    "    ('Auction', LabelBinarizer()),\n",
    "    ('VehYear', LabelBinarizer()),\n",
    "#     (['VehicleAge'], StandardScaler()),\n",
    "    ('Make',CountVectorizer(min_df=5000)),\n",
    "#     ('Model', LabelBinarizer()),\n",
    "    ('Trim', CountVectorizer(min_df=6500)),\n",
    "    ('Color', CountVectorizer(min_df=6000)),\n",
    "#     ('Transmission', LabelBinarizer()),\n",
    "    ('WheelType', CountVectorizer(min_df=6000)),\n",
    "    (['VehOdo'], StandardScaler()),\n",
    "    ('Nationality', CountVectorizer(min_df=6000)),\n",
    "    ('Size', TfidfVectorizer(min_df=5000, ngram_range=(1,2))), # The only on use Tfidf originally\n",
    "    ('TopThreeAmericanName', CountVectorizer(min_df=6000)),\n",
    "    (['MMRAcquisitionAuctionAveragePrice'], StandardScaler()),\n",
    "#     (['MMRAcquisitionAuctionCleanPrice'], StandardScaler()),\n",
    "    (['MMRAcquisitionRetailAveragePrice'], StandardScaler()),\n",
    "#     (['MMRAcquisitonRetailCleanPrice'], StandardScaler()),\n",
    "    (['MMRCurrentAuctionAveragePrice'], StandardScaler()),\n",
    "#     (['MMRCurrentAuctionCleanPrice'], StandardScaler()),\n",
    "    (['MMRCurrentRetailAveragePrice'], StandardScaler()),\n",
    "#     (['MMRCurrentRetailCleanPrice'], StandardScaler()),\n",
    "    ('VNST', CountVectorizer(min_df=6000)),\n",
    "    (['VehBCost'], StandardScaler()),\n",
    "#     ('IsOnlineSale', LabelBinarizer()),\n",
    "    (['WarrantyCost'], StandardScaler()),\n",
    "    ('PurchYear', LabelBinarizer()),\n",
    "    ('PurchMonth', LabelBinarizer()),\n",
    "    ('PurchQuarter', LabelBinarizer()),\n",
    "    ('PurchDayofweek', LabelBinarizer())])"
   ]
  },
  {
   "cell_type": "code",
   "execution_count": 74,
   "metadata": {},
   "outputs": [],
   "source": [
    "X2 = mapper.fit_transform(train_df)"
   ]
  },
  {
   "cell_type": "code",
   "execution_count": 77,
   "metadata": {},
   "outputs": [],
   "source": [
    "X2_tr, X2_val, y2_tr, y2_val = train_test_split(X2, y, test_size=0.2, random_state=SEED)\n",
    "d_train2 = lgb.Dataset(X2_tr, label= y2_tr)\n",
    "d_valid2 = lgb.Dataset(X2_val, label = y2_val)"
   ]
  },
  {
   "cell_type": "code",
   "execution_count": 78,
   "metadata": {},
   "outputs": [],
   "source": [
    "gbm2 = GridSearchCV(estimator=clf, param_grid=param_grid, scoring='f1')"
   ]
  },
  {
   "cell_type": "code",
   "execution_count": 79,
   "metadata": {},
   "outputs": [
    {
     "data": {
      "text/plain": [
       "GridSearchCV(cv=None, error_score='raise',\n",
       "       estimator=LGBMClassifier(boosting_type='gbdt', class_weight=None, colsample_bytree=1.0,\n",
       "        learning_rate=0.1, max_depth=-1, min_child_samples=20,\n",
       "        min_child_weight=0.001, min_split_gain=0.0, n_estimators=100,\n",
       "        n_jobs=-1, num_leaves=31, objective=None, random_state=100,\n",
       "        reg_alpha=0.0, reg_lambda=0.0, silent=True, subsample=1.0,\n",
       "        subsample_for_bin=200000, subsample_freq=1),\n",
       "       fit_params=None, iid=True, n_jobs=1,\n",
       "       param_grid={'class_weight': [None, 'balanced'], 'num_leaves': [30], 'max_depth': [5, 10], 'n_estimators': [30], 'learning_rate': [0.1], 'reg_lambda': [0.1], 'reg_alpha': [0.1], 'scoring': ['f1']},\n",
       "       pre_dispatch='2*n_jobs', refit=True, return_train_score='warn',\n",
       "       scoring='f1', verbose=0)"
      ]
     },
     "execution_count": 79,
     "metadata": {},
     "output_type": "execute_result"
    }
   ],
   "source": [
    "gbm2.fit(d_train2.data, d_train2.label)"
   ]
  },
  {
   "cell_type": "code",
   "execution_count": 80,
   "metadata": {},
   "outputs": [
    {
     "data": {
      "text/plain": [
       "{'class_weight': 'balanced',\n",
       " 'learning_rate': 0.1,\n",
       " 'max_depth': 10,\n",
       " 'n_estimators': 30,\n",
       " 'num_leaves': 30,\n",
       " 'reg_alpha': 0.1,\n",
       " 'reg_lambda': 0.1,\n",
       " 'scoring': 'f1'}"
      ]
     },
     "execution_count": 80,
     "metadata": {},
     "output_type": "execute_result"
    }
   ],
   "source": [
    "gbm.best_params_"
   ]
  },
  {
   "cell_type": "code",
   "execution_count": 82,
   "metadata": {},
   "outputs": [
    {
     "data": {
      "text/plain": [
       "0.36605975043395433"
      ]
     },
     "execution_count": 82,
     "metadata": {},
     "output_type": "execute_result"
    }
   ],
   "source": [
    "gbm.best_score_"
   ]
  },
  {
   "cell_type": "code",
   "execution_count": 83,
   "metadata": {},
   "outputs": [
    {
     "data": {
      "text/plain": [
       "0.36384859096214772"
      ]
     },
     "execution_count": 83,
     "metadata": {},
     "output_type": "execute_result"
    }
   ],
   "source": [
    "skm.f1_score(d_valid.label, gbm.best_estimator_.predict(d_valid.data))"
   ]
  },
  {
   "cell_type": "markdown",
   "metadata": {},
   "source": [
    "#### Feature importance"
   ]
  },
  {
   "cell_type": "code",
   "execution_count": 50,
   "metadata": {},
   "outputs": [],
   "source": [
    "feature_imp_df = pd.DataFrame({'feat_name': mapper.transformed_names_, 'importance':gbm.best_estimator_.feature_importances_})"
   ]
  },
  {
   "cell_type": "code",
   "execution_count": 51,
   "metadata": {},
   "outputs": [],
   "source": [
    "sort_imp_df = feature_imp_df.sort_values(by=['importance'], ascending=False)"
   ]
  },
  {
   "cell_type": "code",
   "execution_count": 52,
   "metadata": {},
   "outputs": [
    {
     "data": {
      "text/html": [
       "<div>\n",
       "<style scoped>\n",
       "    .dataframe tbody tr th:only-of-type {\n",
       "        vertical-align: middle;\n",
       "    }\n",
       "\n",
       "    .dataframe tbody tr th {\n",
       "        vertical-align: top;\n",
       "    }\n",
       "\n",
       "    .dataframe thead th {\n",
       "        text-align: right;\n",
       "    }\n",
       "</style>\n",
       "<table border=\"1\" class=\"dataframe\">\n",
       "  <thead>\n",
       "    <tr style=\"text-align: right;\">\n",
       "      <th></th>\n",
       "      <th>feat_name</th>\n",
       "      <th>importance</th>\n",
       "    </tr>\n",
       "  </thead>\n",
       "  <tbody>\n",
       "    <tr>\n",
       "      <th>50</th>\n",
       "      <td>VehBCost</td>\n",
       "      <td>83</td>\n",
       "    </tr>\n",
       "    <tr>\n",
       "      <th>28</th>\n",
       "      <td>VehOdo</td>\n",
       "      <td>72</td>\n",
       "    </tr>\n",
       "    <tr>\n",
       "      <th>41</th>\n",
       "      <td>MMRAcquisitionAuctionAveragePrice</td>\n",
       "      <td>51</td>\n",
       "    </tr>\n",
       "    <tr>\n",
       "      <th>51</th>\n",
       "      <td>WarrantyCost</td>\n",
       "      <td>50</td>\n",
       "    </tr>\n",
       "    <tr>\n",
       "      <th>1</th>\n",
       "      <td>Auction_MANHEIM</td>\n",
       "      <td>49</td>\n",
       "    </tr>\n",
       "  </tbody>\n",
       "</table>\n",
       "</div>"
      ],
      "text/plain": [
       "                            feat_name  importance\n",
       "50                           VehBCost          83\n",
       "28                             VehOdo          72\n",
       "41  MMRAcquisitionAuctionAveragePrice          51\n",
       "51                       WarrantyCost          50\n",
       "1                     Auction_MANHEIM          49"
      ]
     },
     "execution_count": 52,
     "metadata": {},
     "output_type": "execute_result"
    }
   ],
   "source": [
    "sort_imp_df.head()"
   ]
  },
  {
   "cell_type": "code",
   "execution_count": 53,
   "metadata": {},
   "outputs": [],
   "source": [
    "# list(sort_imp_df.feat_name.values)"
   ]
  },
  {
   "cell_type": "code",
   "execution_count": 54,
   "metadata": {},
   "outputs": [
    {
     "data": {
      "text/plain": [
       "([<matplotlib.axis.XTick at 0x1a211186a0>,\n",
       "  <matplotlib.axis.XTick at 0x1a101c8f98>,\n",
       "  <matplotlib.axis.XTick at 0x1a1b5f8978>,\n",
       "  <matplotlib.axis.XTick at 0x1a1b6117b8>,\n",
       "  <matplotlib.axis.XTick at 0x1a1b611e48>],\n",
       " <a list of 5 Text xticklabel objects>)"
      ]
     },
     "execution_count": 54,
     "metadata": {},
     "output_type": "execute_result"
    },
    {
     "data": {
      "text/plain": [
       "<matplotlib.figure.Figure at 0x1a0ca6fba8>"
      ]
     },
     "metadata": {},
     "output_type": "display_data"
    },
    {
     "data": {
      "image/png": "[encoded data removed]",
      "text/plain": [
       "<matplotlib.figure.Figure at 0x1a0b852d68>"
      ]
     },
     "metadata": {},
     "output_type": "display_data"
    }
   ],
   "source": [
    "# plt.bar(range(len(gbm.best_estimator_.feature_importances_)), gbm.best_estimator_.feature_importances_)\n",
    "# \n",
    "plt.figure()\n",
    "sort_imp_df[:5].plot(kind='bar',figsize=(20,12))\n",
    "plt.xticks(range(5), list(sort_imp_df.feat_name.values[:5]))"
   ]
  },
  {
   "cell_type": "code",
   "execution_count": 55,
   "metadata": {},
   "outputs": [],
   "source": [
    "orig_feat_names = train_df.columns.tolist()\n",
    "sort_imp_df['orig_feat'] = sort_imp_df['feat_name'].apply(lambda x: x.rsplit('_',1)[0]\n",
    "                                                        if x.rsplit('_', 1)[0] in orig_feat_names else \n",
    "                                                        (x.split('_', 1)[0] if x.split('_',1)[0] in orig_feat_names else x))"
   ]
  },
  {
   "cell_type": "code",
   "execution_count": 56,
   "metadata": {},
   "outputs": [
    {
     "data": {
      "text/plain": [
       "([<matplotlib.axis.XTick at 0x1a2110ee10>,\n",
       "  <matplotlib.axis.XTick at 0x1a210ec160>,\n",
       "  <matplotlib.axis.XTick at 0x1a1b6ed6a0>,\n",
       "  <matplotlib.axis.XTick at 0x1a1b402780>,\n",
       "  <matplotlib.axis.XTick at 0x1a1b4094e0>,\n",
       "  <matplotlib.axis.XTick at 0x1a1b409b38>,\n",
       "  <matplotlib.axis.XTick at 0x1a1b40f1d0>,\n",
       "  <matplotlib.axis.XTick at 0x1a1b40f828>,\n",
       "  <matplotlib.axis.XTick at 0x1a1b40fe80>,\n",
       "  <matplotlib.axis.XTick at 0x1a1b422550>,\n",
       "  <matplotlib.axis.XTick at 0x1a1b422be0>,\n",
       "  <matplotlib.axis.XTick at 0x1a1b42a2b0>,\n",
       "  <matplotlib.axis.XTick at 0x1a1b42a940>,\n",
       "  <matplotlib.axis.XTick at 0x1a1b42afd0>,\n",
       "  <matplotlib.axis.XTick at 0x1a1b42f6a0>,\n",
       "  <matplotlib.axis.XTick at 0x1a1b42fd30>,\n",
       "  <matplotlib.axis.XTick at 0x1a1b435400>,\n",
       "  <matplotlib.axis.XTick at 0x1a1b435a90>,\n",
       "  <matplotlib.axis.XTick at 0x1a1b43a160>,\n",
       "  <matplotlib.axis.XTick at 0x1a1b43a7f0>,\n",
       "  <matplotlib.axis.XTick at 0x1a1b43ae80>],\n",
       " <a list of 21 Text xticklabel objects>)"
      ]
     },
     "execution_count": 56,
     "metadata": {},
     "output_type": "execute_result"
    },
    {
     "data": {
      "image/png": "[encoded data removed]",
      "text/plain": [
       "<matplotlib.figure.Figure at 0x1a211001d0>"
      ]
     },
     "metadata": {},
     "output_type": "display_data"
    }
   ],
   "source": [
    "plt.figure(figsize=(20,12))\n",
    "plt.bar(range(len(sort_imp_df.groupby('orig_feat').sum())), sort_imp_df.groupby('orig_feat').sum().importance.values)\n",
    "plt.xticks(range(len(sort_imp_df.groupby('orig_feat').sum())), sort_imp_df.groupby('orig_feat').sum().importance.index, rotation='vertical')"
   ]
  },
  {
   "cell_type": "markdown",
   "metadata": {},
   "source": [
    "##### check for datetime relations"
   ]
  },
  {
   "cell_type": "code",
   "execution_count": 57,
   "metadata": {},
   "outputs": [
    {
     "data": {
      "text/plain": [
       "([<matplotlib.axis.XTick at 0x1a12fac4e0>,\n",
       "  <matplotlib.axis.XTick at 0x1a1b3e2da0>,\n",
       "  <matplotlib.axis.XTick at 0x1a12fbec88>,\n",
       "  <matplotlib.axis.XTick at 0x1a1b49cf28>,\n",
       "  <matplotlib.axis.XTick at 0x1a1b4a35f8>,\n",
       "  <matplotlib.axis.XTick at 0x1a1b4a3c88>,\n",
       "  <matplotlib.axis.XTick at 0x1a1b4a9358>,\n",
       "  <matplotlib.axis.XTick at 0x1a1b6d49b0>,\n",
       "  <matplotlib.axis.XTick at 0x1a1028e080>,\n",
       "  <matplotlib.axis.XTick at 0x1a10297518>,\n",
       "  <matplotlib.axis.XTick at 0x1a10297ba8>,\n",
       "  <matplotlib.axis.XTick at 0x1a1029b278>,\n",
       "  <matplotlib.axis.XTick at 0x1a1029b908>,\n",
       "  <matplotlib.axis.XTick at 0x1a1028ecc0>,\n",
       "  <matplotlib.axis.XTick at 0x1a102a2128>,\n",
       "  <matplotlib.axis.XTick at 0x1a102a27b8>,\n",
       "  <matplotlib.axis.XTick at 0x1a102a2e48>,\n",
       "  <matplotlib.axis.XTick at 0x1a102a8518>,\n",
       "  <matplotlib.axis.XTick at 0x1a102a8ba8>,\n",
       "  <matplotlib.axis.XTick at 0x1a102af278>,\n",
       "  <matplotlib.axis.XTick at 0x1a102af908>,\n",
       "  <matplotlib.axis.XTick at 0x1a102aff98>,\n",
       "  <matplotlib.axis.XTick at 0x1a102b3668>,\n",
       "  <matplotlib.axis.XTick at 0x1a102b3cf8>],\n",
       " <a list of 24 Text xticklabel objects>)"
      ]
     },
     "execution_count": 57,
     "metadata": {},
     "output_type": "execute_result"
    },
    {
     "data": {
      "image/png": "[encoded data removed]",
      "text/plain": [
       "<matplotlib.figure.Figure at 0x1a1b441208>"
      ]
     },
     "metadata": {},
     "output_type": "display_data"
    }
   ],
   "source": [
    "date_cols = [x for x in sort_imp_df.feat_name if 'Purch' in x]\n",
    "a = sort_imp_df[sort_imp_df.feat_name.isin(date_cols)]\n",
    "a.plot(kind='bar',figsize=(20,12))\n",
    "plt.xticks(range(len(a)), list(a.feat_name.values))"
   ]
  },
  {
   "cell_type": "code",
   "execution_count": 58,
   "metadata": {},
   "outputs": [],
   "source": [
    "ts = train_df[['PurchDate','IsBadBuy']]\n",
    "ts.PurchDate = pd.to_datetime(ts.PurchDate)\n",
    "ts = ts.set_index('PurchDate')"
   ]
  },
  {
   "cell_type": "code",
   "execution_count": 59,
   "metadata": {},
   "outputs": [
    {
     "data": {
      "text/plain": [
       "<matplotlib.axes._subplots.AxesSubplot at 0x1a0b858e48>"
      ]
     },
     "execution_count": 59,
     "metadata": {},
     "output_type": "execute_result"
    },
    {
     "data": {
      "image/png": "[encoded data removed]",
      "text/plain": [
       "<matplotlib.figure.Figure at 0x1a0b858198>"
      ]
     },
     "metadata": {},
     "output_type": "display_data"
    }
   ],
   "source": [
    "ts.resample(\"1W\",how=np.sum).plot(figsize=(12,6))"
   ]
  },
  {
   "cell_type": "code",
   "execution_count": 60,
   "metadata": {},
   "outputs": [
    {
     "data": {
      "text/plain": [
       "<matplotlib.axes._subplots.AxesSubplot at 0x1a101e9668>"
      ]
     },
     "execution_count": 60,
     "metadata": {},
     "output_type": "execute_result"
    },
    {
     "data": {
      "image/png": "[encoded data removed]",
      "text/plain": [
       "<matplotlib.figure.Figure at 0x1a0b863be0>"
      ]
     },
     "metadata": {},
     "output_type": "display_data"
    }
   ],
   "source": [
    "train_df[['PurchYear','IsBadBuy']].groupby('PurchYear').sum().plot(kind='bar')"
   ]
  },
  {
   "cell_type": "code",
   "execution_count": 61,
   "metadata": {},
   "outputs": [
    {
     "data": {
      "text/plain": [
       "<matplotlib.axes._subplots.AxesSubplot at 0x1a0b863c18>"
      ]
     },
     "execution_count": 61,
     "metadata": {},
     "output_type": "execute_result"
    },
    {
     "data": {
      "image/png": "[encoded data removed]",
      "text/plain": [
       "<matplotlib.figure.Figure at 0x1a1b65b390>"
      ]
     },
     "metadata": {},
     "output_type": "display_data"
    }
   ],
   "source": [
    "q_df = train_df[['PurchYear','PurchQuarter','IsBadBuy']].groupby(['PurchYear','PurchQuarter']).sum()\n",
    "q_df2 = pd.merge(q_df.loc[2009],q_df.loc[2010], left_index=True, right_index=True, how='outer')\n",
    "q_df2.columns= ['2009','2010']\n",
    "q_df2.plot.bar(figsize=(12,8))"
   ]
  },
  {
   "cell_type": "code",
   "execution_count": 62,
   "metadata": {},
   "outputs": [
    {
     "data": {
      "text/plain": [
       "<matplotlib.axes._subplots.AxesSubplot at 0x1a1b6a2940>"
      ]
     },
     "execution_count": 62,
     "metadata": {},
     "output_type": "execute_result"
    },
    {
     "data": {
      "image/png": "[encoded data removed]",
      "text/plain": [
       "<matplotlib.figure.Figure at 0x1a1b69b160>"
      ]
     },
     "metadata": {},
     "output_type": "display_data"
    }
   ],
   "source": [
    "# train_df[['PurchYear','PurchMonth','IsBadBuy']].groupby(['PurchMonth']).sum().plot(kind ='bar')\n",
    "# train_df[['PurchYear','PurchMonth','IsBadBuy']].groupby(['PurchYear','PurchMonth']).sum().plot(kind ='bar')\n",
    "m_df = train_df[['PurchYear','PurchMonth','IsBadBuy']].groupby(['PurchYear','PurchMonth']).sum()\n",
    "m_df2 = pd.merge(m_df.loc[2009],m_df.loc[2010], left_index=True, right_index=True, how='outer')\n",
    "m_df2.columns = ['2009', '2010']\n",
    "m_df2.plot.bar(figsize=(12,8))"
   ]
  },
  {
   "cell_type": "code",
   "execution_count": 63,
   "metadata": {},
   "outputs": [],
   "source": [
    "d_df = train_df[['PurchYear','PurchDayofweek','IsBadBuy']].groupby(['PurchYear','PurchDayofweek']).sum()\n",
    "# d_df2 = pd.merge(d_df.loc[2009],d_df.loc[2010], left_index=True, right_index=True, how='outer')\n",
    "# d_df2.columns = ['2009', '2010']\n",
    "# d_df2.plot.bar(figsize=(12,8))"
   ]
  },
  {
   "cell_type": "code",
   "execution_count": 64,
   "metadata": {},
   "outputs": [
    {
     "data": {
      "text/plain": [
       "array([<matplotlib.axes._subplots.AxesSubplot object at 0x1a0b967a58>,\n",
       "       <matplotlib.axes._subplots.AxesSubplot object at 0x1a0ce95e80>], dtype=object)"
      ]
     },
     "execution_count": 64,
     "metadata": {},
     "output_type": "execute_result"
    },
    {
     "data": {
      "image/png": "[encoded data removed]",
      "text/plain": [
       "<matplotlib.figure.Figure at 0x1a0ce38940>"
      ]
     },
     "metadata": {},
     "output_type": "display_data"
    }
   ],
   "source": [
    "st_df = train_df[['PurchYear','VNST','IsBadBuy']].groupby(['PurchYear','VNST']).sum()\n",
    "st_df2 = pd.merge(st_df.loc[2009],st_df.loc[2010], left_index=True, right_index=True, how='outer')\n",
    "st_df2 = st_df2.reset_index()\n",
    "st_df2.columns= ['VNST','2009','2010']\n",
    "st_df2['VNST']= st_df2.apply(lambda x: x['VNST'] if (x['2009'] > 50 and x['2010'] > 50) else 'OTHER', axis=1)\n",
    "st_df2.groupby('VNST').count().plot.pie(subplots=True, figsize=(24,12), legend = False, fontsize=16)"
   ]
  },
  {
   "cell_type": "code",
   "execution_count": 65,
   "metadata": {},
   "outputs": [
    {
     "data": {
      "text/html": [
       "<div>\n",
       "<style scoped>\n",
       "    .dataframe tbody tr th:only-of-type {\n",
       "        vertical-align: middle;\n",
       "    }\n",
       "\n",
       "    .dataframe tbody tr th {\n",
       "        vertical-align: top;\n",
       "    }\n",
       "\n",
       "    .dataframe thead th {\n",
       "        text-align: right;\n",
       "    }\n",
       "</style>\n",
       "<table border=\"1\" class=\"dataframe\">\n",
       "  <thead>\n",
       "    <tr style=\"text-align: right;\">\n",
       "      <th></th>\n",
       "      <th>feat_name</th>\n",
       "      <th>importance</th>\n",
       "    </tr>\n",
       "    <tr>\n",
       "      <th>orig_feat</th>\n",
       "      <th></th>\n",
       "      <th></th>\n",
       "    </tr>\n",
       "  </thead>\n",
       "  <tbody>\n",
       "    <tr>\n",
       "      <th>Color</th>\n",
       "      <td>3</td>\n",
       "      <td>3</td>\n",
       "    </tr>\n",
       "    <tr>\n",
       "      <th>PurchDayofweek</th>\n",
       "      <td>3</td>\n",
       "      <td>3</td>\n",
       "    </tr>\n",
       "    <tr>\n",
       "      <th>PurchMonth</th>\n",
       "      <td>3</td>\n",
       "      <td>3</td>\n",
       "    </tr>\n",
       "    <tr>\n",
       "      <th>Size</th>\n",
       "      <td>1</td>\n",
       "      <td>1</td>\n",
       "    </tr>\n",
       "    <tr>\n",
       "      <th>TopThreeAmericanName</th>\n",
       "      <td>1</td>\n",
       "      <td>1</td>\n",
       "    </tr>\n",
       "    <tr>\n",
       "      <th>VehYear</th>\n",
       "      <td>1</td>\n",
       "      <td>1</td>\n",
       "    </tr>\n",
       "  </tbody>\n",
       "</table>\n",
       "</div>"
      ],
      "text/plain": [
       "                      feat_name  importance\n",
       "orig_feat                                  \n",
       "Color                         3           3\n",
       "PurchDayofweek                3           3\n",
       "PurchMonth                    3           3\n",
       "Size                          1           1\n",
       "TopThreeAmericanName          1           1\n",
       "VehYear                       1           1"
      ]
     },
     "execution_count": 65,
     "metadata": {},
     "output_type": "execute_result"
    }
   ],
   "source": [
    "b = sort_imp_df[sort_imp_df.importance==0]\n",
    "b.groupby('orig_feat').count()"
   ]
  },
  {
   "cell_type": "code",
   "execution_count": 66,
   "metadata": {},
   "outputs": [
    {
     "data": {
      "text/html": [
       "<div>\n",
       "<style scoped>\n",
       "    .dataframe tbody tr th:only-of-type {\n",
       "        vertical-align: middle;\n",
       "    }\n",
       "\n",
       "    .dataframe tbody tr th {\n",
       "        vertical-align: top;\n",
       "    }\n",
       "\n",
       "    .dataframe thead th {\n",
       "        text-align: right;\n",
       "    }\n",
       "</style>\n",
       "<table border=\"1\" class=\"dataframe\">\n",
       "  <thead>\n",
       "    <tr style=\"text-align: right;\">\n",
       "      <th></th>\n",
       "      <th>feat_name</th>\n",
       "      <th>importance</th>\n",
       "      <th>orig_feat</th>\n",
       "    </tr>\n",
       "  </thead>\n",
       "  <tbody>\n",
       "    <tr>\n",
       "      <th>72</th>\n",
       "      <td>PurchDayofweek_3</td>\n",
       "      <td>0</td>\n",
       "      <td>PurchDayofweek</td>\n",
       "    </tr>\n",
       "    <tr>\n",
       "      <th>12</th>\n",
       "      <td>VehYear_2010</td>\n",
       "      <td>0</td>\n",
       "      <td>VehYear</td>\n",
       "    </tr>\n",
       "    <tr>\n",
       "      <th>74</th>\n",
       "      <td>PurchDayofweek_5</td>\n",
       "      <td>0</td>\n",
       "      <td>PurchDayofweek</td>\n",
       "    </tr>\n",
       "    <tr>\n",
       "      <th>22</th>\n",
       "      <td>Color_grey</td>\n",
       "      <td>0</td>\n",
       "      <td>Color</td>\n",
       "    </tr>\n",
       "    <tr>\n",
       "      <th>64</th>\n",
       "      <td>PurchMonth_12</td>\n",
       "      <td>0</td>\n",
       "      <td>PurchMonth</td>\n",
       "    </tr>\n",
       "    <tr>\n",
       "      <th>63</th>\n",
       "      <td>PurchMonth_11</td>\n",
       "      <td>0</td>\n",
       "      <td>PurchMonth</td>\n",
       "    </tr>\n",
       "    <tr>\n",
       "      <th>40</th>\n",
       "      <td>TopThreeAmericanName_other</td>\n",
       "      <td>0</td>\n",
       "      <td>TopThreeAmericanName</td>\n",
       "    </tr>\n",
       "    <tr>\n",
       "      <th>23</th>\n",
       "      <td>Color_red</td>\n",
       "      <td>0</td>\n",
       "      <td>Color</td>\n",
       "    </tr>\n",
       "    <tr>\n",
       "      <th>60</th>\n",
       "      <td>PurchMonth_8</td>\n",
       "      <td>0</td>\n",
       "      <td>PurchMonth</td>\n",
       "    </tr>\n",
       "    <tr>\n",
       "      <th>24</th>\n",
       "      <td>Color_silver</td>\n",
       "      <td>0</td>\n",
       "      <td>Color</td>\n",
       "    </tr>\n",
       "    <tr>\n",
       "      <th>33</th>\n",
       "      <td>Size_large</td>\n",
       "      <td>0</td>\n",
       "      <td>Size</td>\n",
       "    </tr>\n",
       "    <tr>\n",
       "      <th>75</th>\n",
       "      <td>PurchDayofweek_6</td>\n",
       "      <td>0</td>\n",
       "      <td>PurchDayofweek</td>\n",
       "    </tr>\n",
       "  </tbody>\n",
       "</table>\n",
       "</div>"
      ],
      "text/plain": [
       "                     feat_name  importance             orig_feat\n",
       "72            PurchDayofweek_3           0        PurchDayofweek\n",
       "12                VehYear_2010           0               VehYear\n",
       "74            PurchDayofweek_5           0        PurchDayofweek\n",
       "22                  Color_grey           0                 Color\n",
       "64               PurchMonth_12           0            PurchMonth\n",
       "63               PurchMonth_11           0            PurchMonth\n",
       "40  TopThreeAmericanName_other           0  TopThreeAmericanName\n",
       "23                   Color_red           0                 Color\n",
       "60                PurchMonth_8           0            PurchMonth\n",
       "24                Color_silver           0                 Color\n",
       "33                  Size_large           0                  Size\n",
       "75            PurchDayofweek_6           0        PurchDayofweek"
      ]
     },
     "execution_count": 66,
     "metadata": {},
     "output_type": "execute_result"
    }
   ],
   "source": [
    "b"
   ]
  },
  {
   "cell_type": "code",
   "execution_count": 67,
   "metadata": {},
   "outputs": [
    {
     "data": {
      "text/plain": [
       "12"
      ]
     },
     "execution_count": 67,
     "metadata": {},
     "output_type": "execute_result"
    }
   ],
   "source": [
    "len(b)"
   ]
  },
  {
   "cell_type": "markdown",
   "metadata": {},
   "source": [
    "#### create a submission"
   ]
  },
  {
   "cell_type": "code",
   "execution_count": 68,
   "metadata": {},
   "outputs": [],
   "source": [
    "test = pd.read_csv('data/test.csv')"
   ]
  },
  {
   "cell_type": "code",
   "execution_count": 70,
   "metadata": {},
   "outputs": [],
   "source": [
    "pd.DataFrame({\"RefId\": test.RefId, \"IsBadBuy\":ests['gbm'].predict_proba(X_test)[:,1]}, columns=['RefId','IsBadBuy']).to_csv(\"output2.csv\", index=False)\n"
   ]
  },
  {
   "cell_type": "markdown",
   "metadata": {},
   "source": [
    "Achieved a score of 0.23797 (~125th place/570 teams comapred to the 1st place 0.26719)"
   ]
  },
  {
   "cell_type": "markdown",
   "metadata": {},
   "source": [
    "## Future work\n",
    "\n",
    "1) use entity embedding to reduce the dimenstions increased by the dummy variables. Then use neural network as a model"
   ]
  },
  {
   "cell_type": "code",
   "execution_count": null,
   "metadata": {
    "collapsed": true
   },
   "outputs": [],
   "source": []
  },
  {
   "cell_type": "code",
   "execution_count": null,
   "metadata": {
    "collapsed": true
   },
   "outputs": [],
   "source": []
  },
  {
   "cell_type": "code",
   "execution_count": null,
   "metadata": {
    "collapsed": true
   },
   "outputs": [],
   "source": []
  },
  {
   "cell_type": "code",
   "execution_count": null,
   "metadata": {
    "collapsed": true
   },
   "outputs": [],
   "source": []
  },
  {
   "cell_type": "code",
   "execution_count": null,
   "metadata": {
    "collapsed": true
   },
   "outputs": [],
   "source": []
  }
 ],
 "metadata": {
  "kernelspec": {
   "display_name": "Python (py36vir)",
   "language": "python",
   "name": "py36vir"
  },
  "language_info": {
   "codemirror_mode": {
    "name": "ipython",
    "version": 3
   },
   "file_extension": ".py",
   "mimetype": "text/x-python",
   "name": "python",
   "nbconvert_exporter": "python",
   "pygments_lexer": "ipython3",
   "version": "3.6.3"
  }
 },
 "nbformat": 4,
 "nbformat_minor": 2
}
